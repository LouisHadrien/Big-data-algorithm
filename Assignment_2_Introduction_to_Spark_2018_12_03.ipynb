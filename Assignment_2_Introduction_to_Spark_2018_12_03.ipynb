{
 "cells": [
  {
   "cell_type": "markdown",
   "metadata": {},
   "source": [
    "# Spark (with PySpark)\n",
    "\n",
    "\n",
    "In this tutorial, you will learn how to use Apache Spark, a framework for large-scale data processing, within a notebook.\n",
    "Upon completing this lab you will be able to : \n",
    " + Program in Spark with the Python Language\n",
    " + Demonstrate how to read and process data using Spark\n",
    " + Compare and contrast RDD and Dataframes. \n",
    " + Build a simple machine learning application with Spark.\n",
    " \n",
    " \n",
    " \n",
    "# Requirements : Installing Spark, PySpark and configuration to run it on jupyter notebooks\n",
    "\n",
    "According to your OS, you have to follow the following tutorial :\n",
    "\n",
    "+ [Windows](https://changhsinlee.com/install-pyspark-windows-jupyter/)\n",
    "+ [Mac Os X](https://jmedium.com/pyspark-in-mac/)\n",
    " \n",
    "At the end of the installation, you should be able to run the following code that is a kind of Hello word in PySpark."
   ]
  },
  {
   "cell_type": "code",
   "execution_count": 1,
   "metadata": {},
   "outputs": [
    {
     "name": "stdout",
     "output_type": "stream",
     "text": [
      "+-----+\n",
      "|hello|\n",
      "+-----+\n",
      "|spark|\n",
      "+-----+\n",
      "\n"
     ]
    }
   ],
   "source": [
    "import findspark\n",
    "findspark.init('C:/Users/louis/Documents/spark/spark-2.3.0-bin-hadoop2.7')\n",
    "\n",
    "import pyspark # only run after findspark.init()\n",
    "from pyspark.sql import SparkSession\n",
    "spark = SparkSession.builder.getOrCreate()\n",
    "\n",
    "df = spark.sql('''select 'spark' as hello ''')\n",
    "df.show()"
   ]
  },
  {
   "cell_type": "code",
   "execution_count": 2,
   "metadata": {},
   "outputs": [],
   "source": [
    "spark.stop()"
   ]
  },
  {
   "cell_type": "markdown",
   "metadata": {},
   "source": [
    "## Part 1 : Understanding Spark RDD’s"
   ]
  },
  {
   "cell_type": "markdown",
   "metadata": {},
   "source": [
    "### WordCount in Spark\n",
    "In this part, we will write the wordcount in Spark and apply it on the novel Dracula of Bram Stocker (from the Gutemberg project).\n",
    "\n",
    "First read the [pg345.txt](./SparkData/pg345.txt) file."
   ]
  },
  {
   "cell_type": "code",
   "execution_count": 3,
   "metadata": {},
   "outputs": [],
   "source": [
    "import findspark\n",
    "\n",
    "findspark.init('C:/Users/louis/Documents/spark/spark-2.3.0-bin-hadoop2.7')\n",
    "import pyspark\n",
    "\n",
    "sc=pyspark.SparkContext(\"local[*]\",\"First program in Spark\")"
   ]
  },
  {
   "cell_type": "code",
   "execution_count": 4,
   "metadata": {},
   "outputs": [
    {
     "data": {
      "text/plain": [
       "pyspark.rdd.RDD"
      ]
     },
     "execution_count": 4,
     "metadata": {},
     "output_type": "execute_result"
    }
   ],
   "source": [
    "data = sc.textFile('./SparkData/pg345.txt')\n",
    "type(data)"
   ]
  },
  {
   "cell_type": "markdown",
   "metadata": {},
   "source": [
    "To see the content, of the file, we need to run the action `collect` on the  RDD `data`"
   ]
  },
  {
   "cell_type": "code",
   "execution_count": 5,
   "metadata": {},
   "outputs": [
    {
     "data": {
      "text/plain": [
       "['The Project Gutenberg EBook of Dracula, by Bram Stoker',\n",
       " '',\n",
       " 'This eBook is for the use of anyone anywhere at no cost and with',\n",
       " 'almost no restrictions whatsoever.  You may copy it, give it away or',\n",
       " 're-use it under the terms of the Project Gutenberg License included',\n",
       " 'with this eBook or online at www.gutenberg.org/license',\n",
       " '',\n",
       " '',\n",
       " 'Title: Dracula',\n",
       " '',\n",
       " 'Author: Bram Stoker',\n",
       " '',\n",
       " 'Release Date: August 16, 2013 [EBook #345]',\n",
       " '',\n",
       " 'Language: English',\n",
       " '',\n",
       " '',\n",
       " '*** START OF THIS PROJECT GUTENBERG EBOOK DRACULA ***',\n",
       " '',\n",
       " '',\n",
       " '',\n",
       " '',\n",
       " 'Produced by Chuck Greif and the Online Distributed',\n",
       " 'Proofreading Team at http://www.pgdp.net (This file was',\n",
       " 'produced from images generously made available by The',\n",
       " 'Internet Archive)',\n",
       " '',\n",
       " '',\n",
       " '',\n",
       " '',\n",
       " '',\n",
       " '',\n",
       " '',\n",
       " '                                DRACULA',\n",
       " '',\n",
       " '',\n",
       " '',\n",
       " '',\n",
       " '',\n",
       " '                                DRACULA',\n",
       " '',\n",
       " '                                  _by_',\n",
       " '',\n",
       " '                              Bram Stoker',\n",
       " '',\n",
       " '                        [Illustration: colophon]',\n",
       " '',\n",
       " '                                NEW YORK',\n",
       " '',\n",
       " '                            GROSSET & DUNLAP',\n",
       " '',\n",
       " '                              _Publishers_',\n",
       " '',\n",
       " '      Copyright, 1897, in the United States of America, according',\n",
       " '                   to Act of Congress, by Bram Stoker',\n",
       " '',\n",
       " '                        [_All rights reserved._]',\n",
       " '',\n",
       " '                      PRINTED IN THE UNITED STATES',\n",
       " '                                   AT',\n",
       " '               THE COUNTRY LIFE PRESS, GARDEN CITY, N.Y.',\n",
       " '',\n",
       " '',\n",
       " '',\n",
       " '',\n",
       " '                                   TO',\n",
       " '',\n",
       " '                             MY DEAR FRIEND',\n",
       " '',\n",
       " '                               HOMMY-BEG',\n",
       " '',\n",
       " '',\n",
       " '',\n",
       " '',\n",
       " 'CONTENTS',\n",
       " '',\n",
       " '',\n",
       " 'CHAPTER I',\n",
       " '                                                                    Page',\n",
       " '',\n",
       " \"Jonathan Harker's Journal                                              1\",\n",
       " '',\n",
       " 'CHAPTER II',\n",
       " '',\n",
       " \"Jonathan Harker's Journal                                             14\",\n",
       " '',\n",
       " 'CHAPTER III',\n",
       " '',\n",
       " \"Jonathan Harker's Journal                                             26\",\n",
       " '',\n",
       " 'CHAPTER IV',\n",
       " '',\n",
       " \"Jonathan Harker's Journal                                             38\",\n",
       " '',\n",
       " 'CHAPTER V',\n",
       " '',\n",
       " 'Letters--Lucy and Mina                                                51',\n",
       " '',\n",
       " 'CHAPTER VI',\n",
       " '',\n",
       " \"Mina Murray's Journal                                                 59\",\n",
       " '',\n",
       " 'CHAPTER VII',\n",
       " '',\n",
       " 'Cutting from \"The Dailygraph,\" 8 August                               71',\n",
       " '',\n",
       " 'CHAPTER VIII',\n",
       " '',\n",
       " \"Mina Murray's Journal                                                 84\",\n",
       " '',\n",
       " 'CHAPTER IX',\n",
       " '',\n",
       " \"Mina Murray's Journal                                                 98\",\n",
       " '',\n",
       " 'CHAPTER X',\n",
       " '',\n",
       " \"Mina Murray's Journal                                                111\",\n",
       " '',\n",
       " 'CHAPTER XI',\n",
       " '',\n",
       " \"Lucy Westenra's Diary                                                124\",\n",
       " '',\n",
       " 'CHAPTER XII',\n",
       " '',\n",
       " \"Dr. Seward's Diary                                                   136\",\n",
       " '',\n",
       " 'CHAPTER XIII',\n",
       " '',\n",
       " \"Dr. Seward's Diary                                                   152\",\n",
       " '',\n",
       " 'CHAPTER XIV',\n",
       " '',\n",
       " \"Mina Harker's Journal                                                167\",\n",
       " '',\n",
       " 'CHAPTER XV',\n",
       " '',\n",
       " \"Dr. Seward's Diary                                                   181\",\n",
       " '',\n",
       " 'CHAPTER XVI',\n",
       " '',\n",
       " \"Dr. Seward's Diary                                                   194\",\n",
       " '',\n",
       " 'CHAPTER XVII',\n",
       " '',\n",
       " \"Dr. Seward's Diary                                                   204\",\n",
       " '',\n",
       " 'CHAPTER XVIII',\n",
       " '',\n",
       " \"Dr. Seward's Diary                                                   216\",\n",
       " '',\n",
       " 'CHAPTER XIX',\n",
       " '',\n",
       " \"Jonathan Harker's Journal                                            231\",\n",
       " '',\n",
       " 'CHAPTER XX',\n",
       " '',\n",
       " \"Jonathan Harker's Journal                                            243\",\n",
       " '',\n",
       " 'CHAPTER XXI',\n",
       " '',\n",
       " \"Dr. Seward's Diary                                                   256\",\n",
       " '',\n",
       " 'CHAPTER XXII',\n",
       " '',\n",
       " \"Jonathan Harker's Journal                                            269\",\n",
       " '',\n",
       " 'CHAPTER XXIII',\n",
       " '',\n",
       " \"Dr. Seward's Diary                                                   281\",\n",
       " '',\n",
       " 'CHAPTER XXIV',\n",
       " '',\n",
       " \"Dr. Seward's Phonograph Diary, spoken by Van Helsing                 294\",\n",
       " '',\n",
       " 'CHAPTER XXV',\n",
       " '',\n",
       " \"Dr. Seward's Diary                                                   308\",\n",
       " '',\n",
       " 'CHAPTER XXVI',\n",
       " '',\n",
       " \"Dr. Seward's Diary                                                   322\",\n",
       " '',\n",
       " 'CHAPTER XXVII',\n",
       " '',\n",
       " \"Mina Harker's Journal                                                338\",\n",
       " '',\n",
       " '',\n",
       " '',\n",
       " '',\n",
       " 'DRACULA',\n",
       " '',\n",
       " '',\n",
       " '',\n",
       " '',\n",
       " 'CHAPTER I',\n",
       " '',\n",
       " \"JONATHAN HARKER'S JOURNAL\",\n",
       " '',\n",
       " '(_Kept in shorthand._)',\n",
       " '',\n",
       " '',\n",
       " '_3 May. Bistritz._--Left Munich at 8:35 P. M., on 1st May, arriving at',\n",
       " 'Vienna early next morning; should have arrived at 6:46, but train was an',\n",
       " 'hour late. Buda-Pesth seems a wonderful place, from the glimpse which I',\n",
       " 'got of it from the train and the little I could walk through the',\n",
       " 'streets. I feared to go very far from the station, as we had arrived',\n",
       " 'late and would start as near the correct time as possible. The',\n",
       " 'impression I had was that we were leaving the West and entering the',\n",
       " 'East; the most western of splendid bridges over the Danube, which is',\n",
       " 'here of noble width and depth, took us among the traditions of Turkish',\n",
       " 'rule.',\n",
       " '',\n",
       " 'We left in pretty good time, and came after nightfall to Klausenburgh.',\n",
       " 'Here I stopped for the night at the Hotel Royale. I had for dinner, or',\n",
       " 'rather supper, a chicken done up some way with red pepper, which was',\n",
       " 'very good but thirsty. (_Mem._, get recipe for Mina.) I asked the',\n",
       " 'waiter, and he said it was called \"paprika hendl,\" and that, as it was a',\n",
       " 'national dish, I should be able to get it anywhere along the',\n",
       " 'Carpathians. I found my smattering of German very useful here; indeed, I',\n",
       " \"don't know how I should be able to get on without it.\",\n",
       " '',\n",
       " 'Having had some time at my disposal when in London, I had visited the',\n",
       " 'British Museum, and made search among the books and maps in the library',\n",
       " 'regarding Transylvania; it had struck me that some foreknowledge of the',\n",
       " 'country could hardly fail to have some importance in dealing with a',\n",
       " 'nobleman of that country. I find that the district he named is in the',\n",
       " 'extreme east of the country, just on the borders of three states,',\n",
       " 'Transylvania, Moldavia and Bukovina, in the midst of the Carpathian',\n",
       " 'mountains; one of the wildest and least known portions of Europe. I was',\n",
       " 'not able to light on any map or work giving the exact locality of the',\n",
       " 'Castle Dracula, as there are no maps of this country as yet to compare',\n",
       " 'with our own Ordnance Survey maps; but I found that Bistritz, the post',\n",
       " 'town named by Count Dracula, is a fairly well-known place. I shall enter',\n",
       " 'here some of my notes, as they may refresh my memory when I talk over my',\n",
       " 'travels with Mina.',\n",
       " '',\n",
       " 'In the population of Transylvania there are four distinct nationalities:',\n",
       " 'Saxons in the South, and mixed with them the Wallachs, who are the',\n",
       " 'descendants of the Dacians; Magyars in the West, and Szekelys in the',\n",
       " 'East and North. I am going among the latter, who claim to be descended',\n",
       " 'from Attila and the Huns. This may be so, for when the Magyars conquered',\n",
       " 'the country in the eleventh century they found the Huns settled in it. I',\n",
       " 'read that every known superstition in the world is gathered into the',\n",
       " 'horseshoe of the Carpathians, as if it were the centre of some sort of',\n",
       " 'imaginative whirlpool; if so my stay may be very interesting. (_Mem._, I',\n",
       " 'must ask the Count all about them.)',\n",
       " '',\n",
       " 'I did not sleep well, though my bed was comfortable enough, for I had',\n",
       " 'all sorts of queer dreams. There was a dog howling all night under my',\n",
       " 'window, which may have had something to do with it; or it may have been',\n",
       " 'the paprika, for I had to drink up all the water in my carafe, and was',\n",
       " 'still thirsty. Towards morning I slept and was wakened by the continuous',\n",
       " 'knocking at my door, so I guess I must have been sleeping soundly then.',\n",
       " 'I had for breakfast more paprika, and a sort of porridge of maize flour',\n",
       " 'which they said was \"mamaliga,\" and egg-plant stuffed with forcemeat, a',\n",
       " 'very excellent dish, which they call \"impletata.\" (_Mem._, get recipe',\n",
       " 'for this also.) I had to hurry breakfast, for the train started a little',\n",
       " 'before eight, or rather it ought to have done so, for after rushing to',\n",
       " 'the station at 7:30 I had to sit in the carriage for more than an hour',\n",
       " 'before we began to move. It seems to me that the further east you go the',\n",
       " 'more unpunctual are the trains. What ought they to be in China?',\n",
       " '',\n",
       " 'All day long we seemed to dawdle through a country which was full of',\n",
       " 'beauty of every kind. Sometimes we saw little towns or castles on the',\n",
       " 'top of steep hills such as we see in old missals; sometimes we ran by',\n",
       " 'rivers and streams which seemed from the wide stony margin on each side',\n",
       " 'of them to be subject to great floods. It takes a lot of water, and',\n",
       " 'running strong, to sweep the outside edge of a river clear. At every',\n",
       " 'station there were groups of people, sometimes crowds, and in all sorts',\n",
       " 'of attire. Some of them were just like the peasants at home or those I',\n",
       " 'saw coming through France and Germany, with short jackets and round hats',\n",
       " 'and home-made trousers; but others were very picturesque. The women',\n",
       " 'looked pretty, except when you got near them, but they were very clumsy',\n",
       " 'about the waist. They had all full white sleeves of some kind or other,',\n",
       " 'and most of them had big belts with a lot of strips of something',\n",
       " 'fluttering from them like the dresses in a ballet, but of course there',\n",
       " 'were petticoats under them. The strangest figures we saw were the',\n",
       " 'Slovaks, who were more barbarian than the rest, with their big cow-boy',\n",
       " 'hats, great baggy dirty-white trousers, white linen shirts, and enormous',\n",
       " 'heavy leather belts, nearly a foot wide, all studded over with brass',\n",
       " 'nails. They wore high boots, with their trousers tucked into them, and',\n",
       " 'had long black hair and heavy black moustaches. They are very',\n",
       " 'picturesque, but do not look prepossessing. On the stage they would be',\n",
       " 'set down at once as some old Oriental band of brigands. They are,',\n",
       " 'however, I am told, very harmless and rather wanting in natural',\n",
       " 'self-assertion.',\n",
       " '',\n",
       " 'It was on the dark side of twilight when we got to Bistritz, which is a',\n",
       " 'very interesting old place. Being practically on the frontier--for the',\n",
       " 'Borgo Pass leads from it into Bukovina--it has had a very stormy',\n",
       " 'existence, and it certainly shows marks of it. Fifty years ago a series',\n",
       " 'of great fires took place, which made terrible havoc on five separate',\n",
       " 'occasions. At the very beginning of the seventeenth century it underwent',\n",
       " 'a siege of three weeks and lost 13,000 people, the casualties of war',\n",
       " 'proper being assisted by famine and disease.',\n",
       " '',\n",
       " 'Count Dracula had directed me to go to the Golden Krone Hotel, which I',\n",
       " 'found, to my great delight, to be thoroughly old-fashioned, for of',\n",
       " 'course I wanted to see all I could of the ways of the country. I was',\n",
       " 'evidently expected, for when I got near the door I faced a',\n",
       " 'cheery-looking elderly woman in the usual peasant dress--white',\n",
       " 'undergarment with long double apron, front, and back, of coloured stuff',\n",
       " 'fitting almost too tight for modesty. When I came close she bowed and',\n",
       " 'said, \"The Herr Englishman?\" \"Yes,\" I said, \"Jonathan Harker.\" She',\n",
       " 'smiled, and gave some message to an elderly man in white shirt-sleeves,',\n",
       " 'who had followed her to the door. He went, but immediately returned with',\n",
       " 'a letter:--',\n",
       " '',\n",
       " '     \"My Friend.--Welcome to the Carpathians. I am anxiously expecting',\n",
       " '     you. Sleep well to-night. At three to-morrow the diligence will',\n",
       " '     start for Bukovina; a place on it is kept for you. At the Borgo',\n",
       " '     Pass my carriage will await you and will bring you to me. I trust',\n",
       " '     that your journey from London has been a happy one, and that you',\n",
       " '     will enjoy your stay in my beautiful land.',\n",
       " '',\n",
       " '\"Your friend,',\n",
       " '',\n",
       " '\"DRACULA.\"',\n",
       " '',\n",
       " '',\n",
       " '_4 May._--I found that my landlord had got a letter from the Count,',\n",
       " 'directing him to secure the best place on the coach for me; but on',\n",
       " 'making inquiries as to details he seemed somewhat reticent, and',\n",
       " 'pretended that he could not understand my German. This could not be',\n",
       " 'true, because up to then he had understood it perfectly; at least, he',\n",
       " 'answered my questions exactly as if he did. He and his wife, the old',\n",
       " 'lady who had received me, looked at each other in a frightened sort of',\n",
       " 'way. He mumbled out that the money had been sent in a letter, and that',\n",
       " 'was all he knew. When I asked him if he knew Count Dracula, and could',\n",
       " 'tell me anything of his castle, both he and his wife crossed themselves,',\n",
       " 'and, saying that they knew nothing at all, simply refused to speak',\n",
       " 'further. It was so near the time of starting that I had no time to ask',\n",
       " 'any one else, for it was all very mysterious and not by any means',\n",
       " 'comforting.',\n",
       " '',\n",
       " 'Just before I was leaving, the old lady came up to my room and said in a',\n",
       " 'very hysterical way:',\n",
       " '',\n",
       " '\"Must you go? Oh! young Herr, must you go?\" She was in such an excited',\n",
       " 'state that she seemed to have lost her grip of what German she knew, and',\n",
       " 'mixed it all up with some other language which I did not know at all. I',\n",
       " 'was just able to follow her by asking many questions. When I told her',\n",
       " 'that I must go at once, and that I was engaged on important business,',\n",
       " 'she asked again:',\n",
       " '',\n",
       " '\"Do you know what day it is?\" I answered that it was the fourth of May.',\n",
       " 'She shook her head as she said again:',\n",
       " '',\n",
       " '\"Oh, yes! I know that! I know that, but do you know what day it is?\" On',\n",
       " 'my saying that I did not understand, she went on:',\n",
       " '',\n",
       " '\"It is the eve of St. George\\'s Day. Do you not know that to-night, when',\n",
       " 'the clock strikes midnight, all the evil things in the world will have',\n",
       " 'full sway? Do you know where you are going, and what you are going to?\"',\n",
       " 'She was in such evident distress that I tried to comfort her, but',\n",
       " 'without effect. Finally she went down on her knees and implored me not',\n",
       " 'to go; at least to wait a day or two before starting. It was all very',\n",
       " 'ridiculous but I did not feel comfortable. However, there was business',\n",
       " 'to be done, and I could allow nothing to interfere with it. I therefore',\n",
       " 'tried to raise her up, and said, as gravely as I could, that I thanked',\n",
       " 'her, but my duty was imperative, and that I must go. She then rose and',\n",
       " 'dried her eyes, and taking a crucifix from her neck offered it to me. I',\n",
       " 'did not know what to do, for, as an English Churchman, I have been',\n",
       " 'taught to regard such things as in some measure idolatrous, and yet it',\n",
       " 'seemed so ungracious to refuse an old lady meaning so well and in such a',\n",
       " 'state of mind. She saw, I suppose, the doubt in my face, for she put the',\n",
       " 'rosary round my neck, and said, \"For your mother\\'s sake,\" and went out',\n",
       " 'of the room. I am writing up this part of the diary whilst I am waiting',\n",
       " 'for the coach, which is, of course, late; and the crucifix is still',\n",
       " \"round my neck. Whether it is the old lady's fear, or the many ghostly\",\n",
       " 'traditions of this place, or the crucifix itself, I do not know, but I',\n",
       " 'am not feeling nearly as easy in my mind as usual. If this book should',\n",
       " 'ever reach Mina before I do, let it bring my good-bye. Here comes the',\n",
       " 'coach!',\n",
       " '',\n",
       " '       *       *       *       *       *',\n",
       " '',\n",
       " '_5 May. The Castle._--The grey of the morning has passed, and the sun is',\n",
       " 'high over the distant horizon, which seems jagged, whether with trees or',\n",
       " 'hills I know not, for it is so far off that big things and little are',\n",
       " 'mixed. I am not sleepy, and, as I am not to be called till I awake,',\n",
       " 'naturally I write till sleep comes. There are many odd things to put',\n",
       " 'down, and, lest who reads them may fancy that I dined too well before I',\n",
       " 'left Bistritz, let me put down my dinner exactly. I dined on what they',\n",
       " 'called \"robber steak\"--bits of bacon, onion, and beef, seasoned with red',\n",
       " 'pepper, and strung on sticks and roasted over the fire, in the simple',\n",
       " \"style of the London cat's meat! The wine was Golden Mediasch, which\",\n",
       " 'produces a queer sting on the tongue, which is, however, not',\n",
       " 'disagreeable. I had only a couple of glasses of this, and nothing else.',\n",
       " '',\n",
       " 'When I got on the coach the driver had not taken his seat, and I saw him',\n",
       " 'talking with the landlady. They were evidently talking of me, for every',\n",
       " 'now and then they looked at me, and some of the people who were sitting',\n",
       " 'on the bench outside the door--which they call by a name meaning',\n",
       " '\"word-bearer\"--came and listened, and then looked at me, most of them',\n",
       " 'pityingly. I could hear a lot of words often repeated, queer words, for',\n",
       " 'there were many nationalities in the crowd; so I quietly got my polyglot',\n",
       " 'dictionary from my bag and looked them out. I must say they were not',\n",
       " 'cheering to me, for amongst them were \"Ordog\"--Satan, \"pokol\"--hell,',\n",
       " '\"stregoica\"--witch, \"vrolok\" and \"vlkoslak\"--both of which mean the same',\n",
       " 'thing, one being Slovak and the other Servian for something that is',\n",
       " 'either were-wolf or vampire. (_Mem._, I must ask the Count about these',\n",
       " 'superstitions)',\n",
       " '',\n",
       " 'When we started, the crowd round the inn door, which had by this time',\n",
       " 'swelled to a considerable size, all made the sign of the cross and',\n",
       " 'pointed two fingers towards me. With some difficulty I got a',\n",
       " 'fellow-passenger to tell me what they meant; he would not answer at',\n",
       " 'first, but on learning that I was English, he explained that it was a',\n",
       " 'charm or guard against the evil eye. This was not very pleasant for me,',\n",
       " 'just starting for an unknown place to meet an unknown man; but every one',\n",
       " 'seemed so kind-hearted, and so sorrowful, and so sympathetic that I',\n",
       " 'could not but be touched. I shall never forget the last glimpse which I',\n",
       " 'had of the inn-yard and its crowd of picturesque figures, all crossing',\n",
       " 'themselves, as they stood round the wide archway, with its background of',\n",
       " 'rich foliage of oleander and orange trees in green tubs clustered in the',\n",
       " 'centre of the yard. Then our driver, whose wide linen drawers covered',\n",
       " 'the whole front of the box-seat--\"gotza\" they call them--cracked his big',\n",
       " 'whip over his four small horses, which ran abreast, and we set off on',\n",
       " 'our journey.',\n",
       " '',\n",
       " 'I soon lost sight and recollection of ghostly fears in the beauty of the',\n",
       " 'scene as we drove along, although had I known the language, or rather',\n",
       " 'languages, which my fellow-passengers were speaking, I might not have',\n",
       " 'been able to throw them off so easily. Before us lay a green sloping',\n",
       " 'land full of forests and woods, with here and there steep hills, crowned',\n",
       " 'with clumps of trees or with farmhouses, the blank gable end to the',\n",
       " 'road. There was everywhere a bewildering mass of fruit blossom--apple,',\n",
       " 'plum, pear, cherry; and as we drove by I could see the green grass under',\n",
       " 'the trees spangled with the fallen petals. In and out amongst these',\n",
       " 'green hills of what they call here the \"Mittel Land\" ran the road,',\n",
       " 'losing itself as it swept round the grassy curve, or was shut out by the',\n",
       " 'straggling ends of pine woods, which here and there ran down the',\n",
       " 'hillsides like tongues of flame. The road was rugged, but still we',\n",
       " 'seemed to fly over it with a feverish haste. I could not understand then',\n",
       " 'what the haste meant, but the driver was evidently bent on losing no',\n",
       " 'time in reaching Borgo Prund. I was told that this road is in summertime',\n",
       " 'excellent, but that it had not yet been put in order after the winter',\n",
       " 'snows. In this respect it is different from the general run of roads in',\n",
       " 'the Carpathians, for it is an old tradition that they are not to be kept',\n",
       " 'in too good order. Of old the Hospadars would not repair them, lest the',\n",
       " 'Turk should think that they were preparing to bring in foreign troops,',\n",
       " 'and so hasten the war which was always really at loading point.',\n",
       " '',\n",
       " 'Beyond the green swelling hills of the Mittel Land rose mighty slopes',\n",
       " 'of forest up to the lofty steeps of the Carpathians themselves. Right',\n",
       " 'and left of us they towered, with the afternoon sun falling full upon',\n",
       " 'them and bringing out all the glorious colours of this beautiful range,',\n",
       " 'deep blue and purple in the shadows of the peaks, green and brown where',\n",
       " 'grass and rock mingled, and an endless perspective of jagged rock and',\n",
       " 'pointed crags, till these were themselves lost in the distance, where',\n",
       " 'the snowy peaks rose grandly. Here and there seemed mighty rifts in the',\n",
       " 'mountains, through which, as the sun began to sink, we saw now and again',\n",
       " 'the white gleam of falling water. One of my companions touched my arm as',\n",
       " 'we swept round the base of a hill and opened up the lofty, snow-covered',\n",
       " 'peak of a mountain, which seemed, as we wound on our serpentine way, to',\n",
       " 'be right before us:--',\n",
       " '',\n",
       " '\"Look! Isten szek!\"--\"God\\'s seat!\"--and he crossed himself reverently.',\n",
       " '',\n",
       " 'As we wound on our endless way, and the sun sank lower and lower behind',\n",
       " 'us, the shadows of the evening began to creep round us. This was',\n",
       " 'emphasised by the fact that the snowy mountain-top still held the',\n",
       " 'sunset, and seemed to glow out with a delicate cool pink. Here and there',\n",
       " 'we passed Cszeks and Slovaks, all in picturesque attire, but I noticed',\n",
       " 'that goitre was painfully prevalent. By the roadside were many crosses,',\n",
       " 'and as we swept by, my companions all crossed themselves. Here and there',\n",
       " 'was a peasant man or woman kneeling before a shrine, who did not even',\n",
       " 'turn round as we approached, but seemed in the self-surrender of',\n",
       " 'devotion to have neither eyes nor ears for the outer world. There were',\n",
       " 'many things new to me: for instance, hay-ricks in the trees, and here',\n",
       " 'and there very beautiful masses of weeping birch, their white stems',\n",
       " 'shining like silver through the delicate green of the leaves. Now and',\n",
       " \"again we passed a leiter-wagon--the ordinary peasant's cart--with its\",\n",
       " 'long, snake-like vertebra, calculated to suit the inequalities of the',\n",
       " 'road. On this were sure to be seated quite a group of home-coming',\n",
       " 'peasants, the Cszeks with their white, and the Slovaks with their',\n",
       " 'coloured, sheepskins, the latter carrying lance-fashion their long',\n",
       " 'staves, with axe at end. As the evening fell it began to get very cold,',\n",
       " 'and the growing twilight seemed to merge into one dark mistiness the',\n",
       " 'gloom of the trees, oak, beech, and pine, though in the valleys which',\n",
       " 'ran deep between the spurs of the hills, as we ascended through the',\n",
       " 'Pass, the dark firs stood out here and there against the background of',\n",
       " 'late-lying snow. Sometimes, as the road was cut through the pine woods',\n",
       " 'that seemed in the darkness to be closing down upon us, great masses of',\n",
       " 'greyness, which here and there bestrewed the trees, produced a',\n",
       " 'peculiarly weird and solemn effect, which carried on the thoughts and',\n",
       " 'grim fancies engendered earlier in the evening, when the falling sunset',\n",
       " 'threw into strange relief the ghost-like clouds which amongst the',\n",
       " 'Carpathians seem to wind ceaselessly through the valleys. Sometimes the',\n",
       " \"hills were so steep that, despite our driver's haste, the horses could\",\n",
       " 'only go slowly. I wished to get down and walk up them, as we do at home,',\n",
       " 'but the driver would not hear of it. \"No, no,\" he said; \"you must not',\n",
       " 'walk here; the dogs are too fierce\"; and then he added, with what he',\n",
       " 'evidently meant for grim pleasantry--for he looked round to catch the',\n",
       " 'approving smile of the rest--\"and you may have enough of such matters',\n",
       " 'before you go to sleep.\" The only stop he would make was a moment\\'s',\n",
       " 'pause to light his lamps.',\n",
       " '',\n",
       " 'When it grew dark there seemed to be some excitement amongst the',\n",
       " 'passengers, and they kept speaking to him, one after the other, as',\n",
       " 'though urging him to further speed. He lashed the horses unmercifully',\n",
       " 'with his long whip, and with wild cries of encouragement urged them on',\n",
       " 'to further exertions. Then through the darkness I could see a sort of',\n",
       " 'patch of grey light ahead of us, as though there were a cleft in the',\n",
       " 'hills. The excitement of the passengers grew greater; the crazy coach',\n",
       " 'rocked on its great leather springs, and swayed like a boat tossed on a',\n",
       " 'stormy sea. I had to hold on. The road grew more level, and we appeared',\n",
       " 'to fly along. Then the mountains seemed to come nearer to us on each',\n",
       " 'side and to frown down upon us; we were entering on the Borgo Pass. One',\n",
       " 'by one several of the passengers offered me gifts, which they pressed',\n",
       " 'upon me with an earnestness which would take no denial; these were',\n",
       " 'certainly of an odd and varied kind, but each was given in simple good',\n",
       " 'faith, with a kindly word, and a blessing, and that strange mixture of',\n",
       " 'fear-meaning movements which I had seen outside the hotel at',\n",
       " 'Bistritz--the sign of the cross and the guard against the evil eye.',\n",
       " 'Then, as we flew along, the driver leaned forward, and on each side the',\n",
       " 'passengers, craning over the edge of the coach, peered eagerly into the',\n",
       " 'darkness. It was evident that something very exciting was either',\n",
       " 'happening or expected, but though I asked each passenger, no one would',\n",
       " 'give me the slightest explanation. This state of excitement kept on for',\n",
       " 'some little time; and at last we saw before us the Pass opening out on',\n",
       " 'the eastern side. There were dark, rolling clouds overhead, and in the',\n",
       " 'air the heavy, oppressive sense of thunder. It seemed as though the',\n",
       " 'mountain range had separated two atmospheres, and that now we had got',\n",
       " 'into the thunderous one. I was now myself looking out for the conveyance',\n",
       " 'which was to take me to the Count. Each moment I expected to see the',\n",
       " 'glare of lamps through the blackness; but all was dark. The only light',\n",
       " 'was the flickering rays of our own lamps, in which the steam from our',\n",
       " 'hard-driven horses rose in a white cloud. We could see now the sandy',\n",
       " 'road lying white before us, but there was on it no sign of a vehicle.',\n",
       " 'The passengers drew back with a sigh of gladness, which seemed to mock',\n",
       " 'my own disappointment. I was already thinking what I had best do, when',\n",
       " 'the driver, looking at his watch, said to the others something which I',\n",
       " 'could hardly hear, it was spoken so quietly and in so low a tone; I',\n",
       " 'thought it was \"An hour less than the time.\" Then turning to me, he said',\n",
       " 'in German worse than my own:--',\n",
       " '',\n",
       " '\"There is no carriage here. The Herr is not expected after all. He will',\n",
       " 'now come on to Bukovina, and return to-morrow or the next day; better',\n",
       " 'the next day.\" Whilst he was speaking the horses began to neigh and',\n",
       " 'snort and plunge wildly, so that the driver had to hold them up. Then,',\n",
       " 'amongst a chorus of screams from the peasants and a universal crossing',\n",
       " 'of themselves, a calèche, with four horses, drove up behind us, overtook',\n",
       " 'us, and drew up beside the coach. I could see from the flash of our',\n",
       " 'lamps, as the rays fell on them, that the horses were coal-black and',\n",
       " 'splendid animals. They were driven by a tall man, with a long brown',\n",
       " 'beard and a great black hat, which seemed to hide his face from us. I',\n",
       " 'could only see the gleam of a pair of very bright eyes, which seemed red',\n",
       " 'in the lamplight, as he turned to us. He said to the driver:--',\n",
       " '',\n",
       " '\"You are early to-night, my friend.\" The man stammered in reply:--',\n",
       " '',\n",
       " '\"The English Herr was in a hurry,\" to which the stranger replied:--',\n",
       " '',\n",
       " '\"That is why, I suppose, you wished him to go on to Bukovina. You cannot',\n",
       " 'deceive me, my friend; I know too much, and my horses are swift.\" As he',\n",
       " 'spoke he smiled, and the lamplight fell on a hard-looking mouth, with',\n",
       " 'very red lips and sharp-looking teeth, as white as ivory. One of my',\n",
       " 'companions whispered to another the line from Burger\\'s \"Lenore\":--',\n",
       " '',\n",
       " '    \"Denn die Todten reiten schnell\"--',\n",
       " '    (\"For the dead travel fast.\")',\n",
       " '',\n",
       " 'The strange driver evidently heard the words, for he looked up with a',\n",
       " 'gleaming smile. The passenger turned his face away, at the same time',\n",
       " 'putting out his two fingers and crossing himself. \"Give me the Herr\\'s',\n",
       " 'luggage,\" said the driver; and with exceeding alacrity my bags were',\n",
       " 'handed out and put in the calèche. Then I descended from the side of the',\n",
       " 'coach, as the calèche was close alongside, the driver helping me with a',\n",
       " 'hand which caught my arm in a grip of steel; his strength must have been',\n",
       " 'prodigious. Without a word he shook his reins, the horses turned, and we',\n",
       " 'swept into the darkness of the Pass. As I looked back I saw the steam',\n",
       " 'from the horses of the coach by the light of the lamps, and projected',\n",
       " 'against it the figures of my late companions crossing themselves. Then',\n",
       " 'the driver cracked his whip and called to his horses, and off they swept',\n",
       " 'on their way to Bukovina. As they sank into the darkness I felt a',\n",
       " 'strange chill, and a lonely feeling came over me; but a cloak was thrown',\n",
       " 'over my shoulders, and a rug across my knees, and the driver said in',\n",
       " 'excellent German:--',\n",
       " '',\n",
       " '\"The night is chill, mein Herr, and my master the Count bade me take all',\n",
       " 'care of you. There is a flask of slivovitz (the plum brandy of the',\n",
       " 'country) underneath the seat, if you should require it.\" I did not take',\n",
       " 'any, but it was a comfort to know it was there all the same. I felt a',\n",
       " 'little strangely, and not a little frightened. I think had there been',\n",
       " 'any alternative I should have taken it, instead of prosecuting that',\n",
       " 'unknown night journey. The carriage went at a hard pace straight along,',\n",
       " 'then we made a complete turn and went along another straight road. It',\n",
       " 'seemed to me that we were simply going over and over the same ground',\n",
       " 'again; and so I took note of some salient point, and found that this was',\n",
       " 'so. I would have liked to have asked the driver what this all meant, but',\n",
       " 'I really feared to do so, for I thought that, placed as I was, any',\n",
       " 'protest would have had no effect in case there had been an intention to',\n",
       " 'delay. By-and-by, however, as I was curious to know how time was',\n",
       " 'passing, I struck a match, and by its flame looked at my watch; it was',\n",
       " 'within a few minutes of midnight. This gave me a sort of shock, for I',\n",
       " 'suppose the general superstition about midnight was increased by my',\n",
       " 'recent experiences. I waited with a sick feeling of suspense.',\n",
       " '',\n",
       " 'Then a dog began to howl somewhere in a farmhouse far down the road--a',\n",
       " 'long, agonised wailing, as if from fear. The sound was taken up by',\n",
       " 'another dog, and then another and another, till, borne on the wind which',\n",
       " 'now sighed softly through the Pass, a wild howling began, which seemed',\n",
       " 'to come from all over the country, as far as the imagination could grasp',\n",
       " 'it through the gloom of the night. At the first howl the horses began to',\n",
       " 'strain and rear, but the driver spoke to them soothingly, and they',\n",
       " 'quieted down, but shivered and sweated as though after a runaway from',\n",
       " 'sudden fright. Then, far off in the distance, from the mountains on each',\n",
       " 'side of us began a louder and a sharper howling--that of wolves--which',\n",
       " 'affected both the horses and myself in the same way--for I was minded to',\n",
       " 'jump from the calèche and run, whilst they reared again and plunged',\n",
       " 'madly, so that the driver had to use all his great strength to keep them',\n",
       " 'from bolting. In a few minutes, however, my own ears got accustomed to',\n",
       " 'the sound, and the horses so far became quiet that the driver was able',\n",
       " 'to descend and to stand before them. He petted and soothed them, and',\n",
       " 'whispered something in their ears, as I have heard of horse-tamers',\n",
       " 'doing, and with extraordinary effect, for under his caresses they became',\n",
       " 'quite manageable again, though they still trembled. The driver again',\n",
       " 'took his seat, and shaking his reins, started off at a great pace. This',\n",
       " 'time, after going to the far side of the Pass, he suddenly turned down a',\n",
       " 'narrow roadway which ran sharply to the right.',\n",
       " '',\n",
       " 'Soon we were hemmed in with trees, which in places arched right over the',\n",
       " 'roadway till we passed as through a tunnel; and again great frowning',\n",
       " 'rocks guarded us boldly on either side. Though we were in shelter, we',\n",
       " 'could hear the rising wind, for it moaned and whistled through the',\n",
       " 'rocks, and the branches of the trees crashed together as we swept along.',\n",
       " 'It grew colder and colder still, and fine, powdery snow began to fall,',\n",
       " 'so that soon we and all around us were covered with a white blanket. The',\n",
       " 'keen wind still carried the howling of the dogs, though this grew',\n",
       " 'fainter as we went on our way. The baying of the wolves sounded nearer',\n",
       " 'and nearer, as though they were closing round on us from every side. I',\n",
       " 'grew dreadfully afraid, and the horses shared my fear. The driver,',\n",
       " 'however, was not in the least disturbed; he kept turning his head to',\n",
       " 'left and right, but I could not see anything through the darkness.',\n",
       " '',\n",
       " 'Suddenly, away on our left, I saw a faint flickering blue flame. The',\n",
       " 'driver saw it at the same moment; he at once checked the horses, and,',\n",
       " 'jumping to the ground, disappeared into the darkness. I did not know',\n",
       " 'what to do, the less as the howling of the wolves grew closer; but while',\n",
       " 'I wondered the driver suddenly appeared again, and without a word took',\n",
       " 'his seat, and we resumed our journey. I think I must have fallen asleep',\n",
       " 'and kept dreaming of the incident, for it seemed to be repeated',\n",
       " 'endlessly, and now looking back, it is like a sort of awful nightmare.',\n",
       " 'Once the flame appeared so near the road, that even in the darkness',\n",
       " \"around us I could watch the driver's motions. He went rapidly to where\",\n",
       " 'the blue flame arose--it must have been very faint, for it did not seem',\n",
       " 'to illumine the place around it at all--and gathering a few stones,',\n",
       " 'formed them into some device. Once there appeared a strange optical',\n",
       " 'effect: when he stood between me and the flame he did not obstruct it,',\n",
       " 'for I could see its ghostly flicker all the same. This startled me, but',\n",
       " 'as the effect was only momentary, I took it that my eyes deceived me',\n",
       " 'straining through the darkness. Then for a time there were no blue',\n",
       " 'flames, and we sped onwards through the gloom, with the howling of the',\n",
       " 'wolves around us, as though they were following in a moving circle.',\n",
       " '',\n",
       " 'At last there came a time when the driver went further afield than he',\n",
       " 'had yet gone, and during his absence, the horses began to tremble worse',\n",
       " 'than ever and to snort and scream with fright. I could not see any cause',\n",
       " 'for it, for the howling of the wolves had ceased altogether; but just',\n",
       " 'then the moon, sailing through the black clouds, appeared behind the',\n",
       " 'jagged crest of a beetling, pine-clad rock, and by its light I saw',\n",
       " 'around us a ring of wolves, with white teeth and lolling red tongues,',\n",
       " 'with long, sinewy limbs and shaggy hair. They were a hundred times more',\n",
       " 'terrible in the grim silence which held them than even when they howled.',\n",
       " 'For myself, I felt a sort of paralysis of fear. It is only when a man',\n",
       " 'feels himself face to face with such horrors that he can understand',\n",
       " 'their true import.',\n",
       " '',\n",
       " 'All at once the wolves began to howl as though the moonlight had had',\n",
       " 'some peculiar effect on them. The horses jumped about and reared, and',\n",
       " 'looked helplessly round with eyes that rolled in a way painful to see;',\n",
       " 'but the living ring of terror encompassed them on every side; and they',\n",
       " 'had perforce to remain within it. I called to the coachman to come, for',\n",
       " 'it seemed to me that our only chance was to try to break out through the',\n",
       " 'ring and to aid his approach. I shouted and beat the side of the',\n",
       " 'calèche, hoping by the noise to scare the wolves from that side, so as',\n",
       " 'to give him a chance of reaching the trap. How he came there, I know',\n",
       " 'not, but I heard his voice raised in a tone of imperious command, and',\n",
       " 'looking towards the sound, saw him stand in the roadway. As he swept his',\n",
       " 'long arms, as though brushing aside some impalpable obstacle, the wolves',\n",
       " 'fell back and back further still. Just then a heavy cloud passed across',\n",
       " 'the face of the moon, so that we were again in darkness.',\n",
       " '',\n",
       " 'When I could see again the driver was climbing into the calèche, and the',\n",
       " 'wolves had disappeared. This was all so strange and uncanny that a',\n",
       " 'dreadful fear came upon me, and I was afraid to speak or move. The time',\n",
       " 'seemed interminable as we swept on our way, now in almost complete',\n",
       " 'darkness, for the rolling clouds obscured the moon. We kept on',\n",
       " 'ascending, with occasional periods of quick descent, but in the main',\n",
       " 'always ascending. Suddenly, I became conscious of the fact that the',\n",
       " 'driver was in the act of pulling up the horses in the courtyard of a',\n",
       " 'vast ruined castle, from whose tall black windows came no ray of light,',\n",
       " 'and whose broken battlements showed a jagged line against the moonlit',\n",
       " 'sky.',\n",
       " '',\n",
       " '',\n",
       " '',\n",
       " '',\n",
       " 'CHAPTER II',\n",
       " '',\n",
       " \"JONATHAN HARKER'S JOURNAL--_continued_\",\n",
       " '',\n",
       " '',\n",
       " '_5 May._--I must have been asleep, for certainly if I had been fully',\n",
       " 'awake I must have noticed the approach of such a remarkable place. In',\n",
       " 'the gloom the courtyard looked of considerable size, and as several dark',\n",
       " 'ways led from it under great round arches, it perhaps seemed bigger than',\n",
       " 'it really is. I have not yet been able to see it by daylight.',\n",
       " '',\n",
       " 'When the calèche stopped, the driver jumped down and held out his hand',\n",
       " 'to assist me to alight. Again I could not but notice his prodigious',\n",
       " 'strength. His hand actually seemed like a steel vice that could have',\n",
       " 'crushed mine if he had chosen. Then he took out my traps, and placed',\n",
       " 'them on the ground beside me as I stood close to a great door, old and',\n",
       " 'studded with large iron nails, and set in a projecting doorway of',\n",
       " 'massive stone. I could see even in the dim light that the stone was',\n",
       " 'massively carved, but that the carving had been much worn by time and',\n",
       " 'weather. As I stood, the driver jumped again into his seat and shook the',\n",
       " 'reins; the horses started forward, and trap and all disappeared down one',\n",
       " 'of the dark openings.',\n",
       " '',\n",
       " 'I stood in silence where I was, for I did not know what to do. Of bell',\n",
       " 'or knocker there was no sign; through these frowning walls and dark',\n",
       " 'window openings it was not likely that my voice could penetrate. The',\n",
       " 'time I waited seemed endless, and I felt doubts and fears crowding upon',\n",
       " 'me. What sort of place had I come to, and among what kind of people?',\n",
       " 'What sort of grim adventure was it on which I had embarked? Was this a',\n",
       " \"customary incident in the life of a solicitor's clerk sent out to\",\n",
       " \"explain the purchase of a London estate to a foreigner? Solicitor's\",\n",
       " 'clerk! Mina would not like that. Solicitor--for just before leaving',\n",
       " 'London I got word that my examination was successful; and I am now a',\n",
       " 'full-blown solicitor! I began to rub my eyes and pinch myself to see if',\n",
       " 'I were awake. It all seemed like a horrible nightmare to me, and I',\n",
       " 'expected that I should suddenly awake, and find myself at home, with',\n",
       " 'the dawn struggling in through the windows, as I had now and again felt',\n",
       " 'in the morning after a day of overwork. But my flesh answered the',\n",
       " 'pinching test, and my eyes were not to be deceived. I was indeed awake',\n",
       " 'and among the Carpathians. All I could do now was to be patient, and to',\n",
       " 'wait the coming of the morning.',\n",
       " '',\n",
       " 'Just as I had come to this conclusion I heard a heavy step approaching',\n",
       " 'behind the great door, and saw through the chinks the gleam of a coming',\n",
       " 'light. Then there was the sound of rattling chains and the clanking of',\n",
       " 'massive bolts drawn back. A key was turned with the loud grating noise',\n",
       " 'of long disuse, and the great door swung back.',\n",
       " '',\n",
       " 'Within, stood a tall old man, clean shaven save for a long white',\n",
       " 'moustache, and clad in black from head to foot, without a single speck',\n",
       " 'of colour about him anywhere. He held in his hand an antique silver',\n",
       " 'lamp, in which the flame burned without chimney or globe of any kind,',\n",
       " 'throwing long quivering shadows as it flickered in the draught of the',\n",
       " 'open door. The old man motioned me in with his right hand with a courtly',\n",
       " 'gesture, saying in excellent English, but with a strange intonation:--',\n",
       " '',\n",
       " '\"Welcome to my house! Enter freely and of your own will!\" He made no',\n",
       " 'motion of stepping to meet me, but stood like a statue, as though his',\n",
       " 'gesture of welcome had fixed him into stone. The instant, however, that',\n",
       " 'I had stepped over the threshold, he moved impulsively forward, and',\n",
       " 'holding out his hand grasped mine with a strength which made me wince,',\n",
       " 'an effect which was not lessened by the fact that it seemed as cold as',\n",
       " 'ice--more like the hand of a dead than a living man. Again he said:--',\n",
       " '',\n",
       " '\"Welcome to my house. Come freely. Go safely; and leave something of the',\n",
       " 'happiness you bring!\" The strength of the handshake was so much akin to',\n",
       " 'that which I had noticed in the driver, whose face I had not seen, that',\n",
       " 'for a moment I doubted if it were not the same person to whom I was',\n",
       " 'speaking; so to make sure, I said interrogatively:--',\n",
       " '',\n",
       " '\"Count Dracula?\" He bowed in a courtly way as he replied:--',\n",
       " '',\n",
       " '\"I am Dracula; and I bid you welcome, Mr. Harker, to my house. Come in;',\n",
       " 'the night air is chill, and you must need to eat and rest.\" As he was',\n",
       " 'speaking, he put the lamp on a bracket on the wall, and stepping out,',\n",
       " 'took my luggage; he had carried it in before I could forestall him. I',\n",
       " 'protested but he insisted:--',\n",
       " '',\n",
       " '\"Nay, sir, you are my guest. It is late, and my people are not',\n",
       " 'available. Let me see to your comfort myself.\" He insisted on carrying',\n",
       " 'my traps along the passage, and then up a great winding stair, and',\n",
       " 'along another great passage, on whose stone floor our steps rang',\n",
       " 'heavily. At the end of this he threw open a heavy door, and I rejoiced',\n",
       " 'to see within a well-lit room in which a table was spread for supper,',\n",
       " 'and on whose mighty hearth a great fire of logs, freshly replenished,',\n",
       " 'flamed and flared.',\n",
       " '',\n",
       " 'The Count halted, putting down my bags, closed the door, and crossing',\n",
       " 'the room, opened another door, which led into a small octagonal room lit',\n",
       " 'by a single lamp, and seemingly without a window of any sort. Passing',\n",
       " 'through this, he opened another door, and motioned me to enter. It was a',\n",
       " 'welcome sight; for here was a great bedroom well lighted and warmed with',\n",
       " 'another log fire,--also added to but lately, for the top logs were',\n",
       " 'fresh--which sent a hollow roar up the wide chimney. The Count himself',\n",
       " 'left my luggage inside and withdrew, saying, before he closed the',\n",
       " 'door:--',\n",
       " '',\n",
       " '\"You will need, after your journey, to refresh yourself by making your',\n",
       " 'toilet. I trust you will find all you wish. When you are ready, come',\n",
       " 'into the other room, where you will find your supper prepared.\"',\n",
       " '',\n",
       " \"The light and warmth and the Count's courteous welcome seemed to have\",\n",
       " 'dissipated all my doubts and fears. Having then reached my normal state,',\n",
       " 'I discovered that I was half famished with hunger; so making a hasty',\n",
       " 'toilet, I went into the other room.',\n",
       " '',\n",
       " 'I found supper already laid out. My host, who stood on one side of the',\n",
       " 'great fireplace, leaning against the stonework, made a graceful wave of',\n",
       " 'his hand to the table, and said:--',\n",
       " '',\n",
       " '\"I pray you, be seated and sup how you please. You will, I trust, excuse',\n",
       " 'me that I do not join you; but I have dined already, and I do not sup.\"',\n",
       " '',\n",
       " 'I handed to him the sealed letter which Mr. Hawkins had entrusted to me.',\n",
       " 'He opened it and read it gravely; then, with a charming smile, he handed',\n",
       " 'it to me to read. One passage of it, at least, gave me a thrill of',\n",
       " 'pleasure.',\n",
       " '',\n",
       " '\"I must regret that an attack of gout, from which malady I am a constant',\n",
       " 'sufferer, forbids absolutely any travelling on my part for some time to',\n",
       " 'come; but I am happy to say I can send a sufficient substitute, one in',\n",
       " 'whom I have every possible confidence. He is a young man, full of energy',\n",
       " 'and talent in his own way, and of a very faithful disposition. He is',\n",
       " 'discreet and silent, and has grown into manhood in my service. He shall',\n",
       " 'be ready to attend on you when you will during his stay, and shall take',\n",
       " 'your instructions in all matters.\"',\n",
       " '',\n",
       " 'The Count himself came forward and took off the cover of a dish, and I',\n",
       " 'fell to at once on an excellent roast chicken. This, with some cheese',\n",
       " 'and a salad and a bottle of old Tokay, of which I had two glasses, was',\n",
       " 'my supper. During the time I was eating it the Count asked me many',\n",
       " 'questions as to my journey, and I told him by degrees all I had',\n",
       " 'experienced.',\n",
       " '',\n",
       " \"By this time I had finished my supper, and by my host's desire had drawn\",\n",
       " 'up a chair by the fire and begun to smoke a cigar which he offered me,',\n",
       " 'at the same time excusing himself that he did not smoke. I had now an',\n",
       " 'opportunity of observing him, and found him of a very marked',\n",
       " 'physiognomy.',\n",
       " '',\n",
       " 'His face was a strong--a very strong--aquiline, with high bridge of the',\n",
       " 'thin nose and peculiarly arched nostrils; with lofty domed forehead, and',\n",
       " 'hair growing scantily round the temples but profusely elsewhere. His',\n",
       " 'eyebrows were very massive, almost meeting over the nose, and with bushy',\n",
       " 'hair that seemed to curl in its own profusion. The mouth, so far as I',\n",
       " 'could see it under the heavy moustache, was fixed and rather',\n",
       " 'cruel-looking, with peculiarly sharp white teeth; these protruded over',\n",
       " 'the lips, whose remarkable ruddiness showed astonishing vitality in a',\n",
       " 'man of his years. For the rest, his ears were pale, and at the tops',\n",
       " 'extremely pointed; the chin was broad and strong, and the cheeks firm',\n",
       " 'though thin. The general effect was one of extraordinary pallor.',\n",
       " '',\n",
       " 'Hitherto I had noticed the backs of his hands as they lay on his knees',\n",
       " 'in the firelight, and they had seemed rather white and fine; but seeing',\n",
       " 'them now close to me, I could not but notice that they were rather',\n",
       " 'coarse--broad, with squat fingers. Strange to say, there were hairs in',\n",
       " 'the centre of the palm. The nails were long and fine, and cut to a sharp',\n",
       " 'point. As the Count leaned over me and his hands touched me, I could not',\n",
       " 'repress a shudder. It may have been that his breath was rank, but a',\n",
       " 'horrible feeling of nausea came over me, which, do what I would, I could',\n",
       " 'not conceal. The Count, evidently noticing it, drew back; and with a',\n",
       " 'grim sort of smile, which showed more than he had yet done his',\n",
       " 'protuberant teeth, sat himself down again on his own side of the',\n",
       " 'fireplace. We were both silent for a while; and as I looked towards the',\n",
       " 'window I saw the first dim streak of the coming dawn. There seemed a',\n",
       " 'strange stillness over everything; but as I listened I heard as if from',\n",
       " \"down below in the valley the howling of many wolves. The Count's eyes\",\n",
       " 'gleamed, and he said:--',\n",
       " '',\n",
       " '\"Listen to them--the children of the night. What music they make!\"',\n",
       " 'Seeing, I suppose, some expression in my face strange to him, he',\n",
       " 'added:--',\n",
       " '',\n",
       " '\"Ah, sir, you dwellers in the city cannot enter into the feelings of the',\n",
       " 'hunter.\" Then he rose and said:--',\n",
       " '',\n",
       " '\"But you must be tired. Your bedroom is all ready, and to-morrow you',\n",
       " 'shall sleep as late as you will. I have to be away till the afternoon;',\n",
       " 'so sleep well and dream well!\" With a courteous bow, he opened for me',\n",
       " 'himself the door to the octagonal room, and I entered my bedroom....',\n",
       " '',\n",
       " 'I am all in a sea of wonders. I doubt; I fear; I think strange things,',\n",
       " 'which I dare not confess to my own soul. God keep me, if only for the',\n",
       " 'sake of those dear to me!',\n",
       " '',\n",
       " '       *       *       *       *       *',\n",
       " '',\n",
       " '_7 May._--It is again early morning, but I have rested and enjoyed the',\n",
       " 'last twenty-four hours. I slept till late in the day, and awoke of my',\n",
       " 'own accord. When I had dressed myself I went into the room where we had',\n",
       " 'supped, and found a cold breakfast laid out, with coffee kept hot by the',\n",
       " 'pot being placed on the hearth. There was a card on the table, on which',\n",
       " 'was written:--',\n",
       " '',\n",
       " '\"I have to be absent for a while. Do not wait for me.--D.\" I set to and',\n",
       " 'enjoyed a hearty meal. When I had done, I looked for a bell, so that I',\n",
       " 'might let the servants know I had finished; but I could not find one.',\n",
       " 'There are certainly odd deficiencies in the house, considering the',\n",
       " 'extraordinary evidences of wealth which are round me. The table service',\n",
       " 'is of gold, and so beautifully wrought that it must be of immense value.',\n",
       " 'The curtains and upholstery of the chairs and sofas and the hangings of',\n",
       " 'my bed are of the costliest and most beautiful fabrics, and must have',\n",
       " 'been of fabulous value when they were made, for they are centuries old,',\n",
       " 'though in excellent order. I saw something like them in Hampton Court,',\n",
       " 'but there they were worn and frayed and moth-eaten. But still in none of',\n",
       " 'the rooms is there a mirror. There is not even a toilet glass on my',\n",
       " 'table, and I had to get the little shaving glass from my bag before I',\n",
       " 'could either shave or brush my hair. I have not yet seen a servant',\n",
       " 'anywhere, or heard a sound near the castle except the howling of wolves.',\n",
       " 'Some time after I had finished my meal--I do not know whether to call it',\n",
       " \"breakfast or dinner, for it was between five and six o'clock when I had\",\n",
       " 'it--I looked about for something to read, for I did not like to go about',\n",
       " \"the castle until I had asked the Count's permission. There was\",\n",
       " 'absolutely nothing in the room, book, newspaper, or even writing',\n",
       " 'materials; so I opened another door in the room and found a sort of',\n",
       " 'library. The door opposite mine I tried, but found it locked.',\n",
       " '',\n",
       " 'In the library I found, to my great delight, a vast number of English',\n",
       " 'books, whole shelves full of them, and bound volumes of magazines and',\n",
       " 'newspapers. A table in the centre was littered with English magazines',\n",
       " 'and newspapers, though none of them were of very recent date. The books',\n",
       " 'were of the most varied kind--history, geography, politics, political',\n",
       " 'economy, botany, geology, law--all relating to England and English life',\n",
       " 'and customs and manners. There were even such books of reference as the',\n",
       " 'London Directory, the \"Red\" and \"Blue\" books, Whitaker\\'s Almanac, the',\n",
       " 'Army and Navy Lists, and--it somehow gladdened my heart to see it--the',\n",
       " 'Law List.',\n",
       " '',\n",
       " 'Whilst I was looking at the books, the door opened, and the Count',\n",
       " 'entered. He saluted me in a hearty way, and hoped that I had had a good',\n",
       " \"night's rest. Then he went on:--\",\n",
       " '',\n",
       " '\"I am glad you found your way in here, for I am sure there is much that',\n",
       " 'will interest you. These companions\"--and he laid his hand on some of',\n",
       " 'the books--\"have been good friends to me, and for some years past, ever',\n",
       " 'since I had the idea of going to London, have given me many, many hours',\n",
       " 'of pleasure. Through them I have come to know your great England; and to',\n",
       " 'know her is to love her. I long to go through the crowded streets of',\n",
       " 'your mighty London, to be in the midst of the whirl and rush of',\n",
       " 'humanity, to share its life, its change, its death, and all that makes',\n",
       " 'it what it is. But alas! as yet I only know your tongue through books.',\n",
       " 'To you, my friend, I look that I know it to speak.\"',\n",
       " '',\n",
       " '\"But, Count,\" I said, \"you know and speak English thoroughly!\" He bowed',\n",
       " 'gravely.',\n",
       " '',\n",
       " '\"I thank you, my friend, for your all too-flattering estimate, but yet I',\n",
       " 'fear that I am but a little way on the road I would travel. True, I know',\n",
       " 'the grammar and the words, but yet I know not how to speak them.\"',\n",
       " '',\n",
       " '\"Indeed,\" I said, \"you speak excellently.\"',\n",
       " '',\n",
       " '\"Not so,\" he answered. \"Well, I know that, did I move and speak in your',\n",
       " 'London, none there are who would not know me for a stranger. That is not',\n",
       " 'enough for me. Here I am noble; I am _boyar_; the common people know me,',\n",
       " 'and I am master. But a stranger in a strange land, he is no one; men',\n",
       " 'know him not--and to know not is to care not for. I am content if I am',\n",
       " 'like the rest, so that no man stops if he see me, or pause in his',\n",
       " \"speaking if he hear my words, 'Ha, ha! a stranger!' I have been so long\",\n",
       " 'master that I would be master still--or at least that none other should',\n",
       " 'be master of me. You come to me not alone as agent of my friend Peter',\n",
       " 'Hawkins, of Exeter, to tell me all about my new estate in London. You',\n",
       " 'shall, I trust, rest here with me awhile, so that by our talking I may',\n",
       " 'learn the English intonation; and I would that you tell me when I make',\n",
       " 'error, even of the smallest, in my speaking. I am sorry that I had to be',\n",
       " 'away so long to-day; but you will, I know, forgive one who has so many',\n",
       " 'important affairs in hand.\"',\n",
       " '',\n",
       " 'Of course I said all I could about being willing, and asked if I might',\n",
       " 'come into that room when I chose. He answered: \"Yes, certainly,\" and',\n",
       " 'added:--',\n",
       " '',\n",
       " '\"You may go anywhere you wish in the castle, except where the doors are',\n",
       " 'locked, where of course you will not wish to go. There is reason that',\n",
       " 'all things are as they are, and did you see with my eyes and know with',\n",
       " 'my knowledge, you would perhaps better understand.\" I said I was sure of',\n",
       " 'this, and then he went on:--',\n",
       " '',\n",
       " '\"We are in Transylvania; and Transylvania is not England. Our ways are',\n",
       " 'not your ways, and there shall be to you many strange things. Nay, from',\n",
       " 'what you have told me of your experiences already, you know something of',\n",
       " 'what strange things there may be.\"',\n",
       " '',\n",
       " 'This led to much conversation; and as it was evident that he wanted to',\n",
       " \"talk, if only for talking's sake, I asked him many questions regarding\",\n",
       " 'things that had already happened to me or come within my notice.',\n",
       " 'Sometimes he sheered off the subject, or turned the conversation by',\n",
       " 'pretending not to understand; but generally he answered all I asked most',\n",
       " 'frankly. Then as time went on, and I had got somewhat bolder, I asked',\n",
       " 'him of some of the strange things of the preceding night, as, for',\n",
       " 'instance, why the coachman went to the places where he had seen the blue',\n",
       " 'flames. He then explained to me that it was commonly believed that on a',\n",
       " 'certain night of the year--last night, in fact, when all evil spirits',\n",
       " 'are supposed to have unchecked sway--a blue flame is seen over any place',\n",
       " 'where treasure has been concealed. \"That treasure has been hidden,\" he',\n",
       " 'went on, \"in the region through which you came last night, there can be',\n",
       " 'but little doubt; for it was the ground fought over for centuries by the',\n",
       " 'Wallachian, the Saxon, and the Turk. Why, there is hardly a foot of soil',\n",
       " 'in all this region that has not been enriched by the blood of men,',\n",
       " 'patriots or invaders. In old days there were stirring times, when the',\n",
       " ...]"
      ]
     },
     "execution_count": 5,
     "metadata": {},
     "output_type": "execute_result"
    }
   ],
   "source": [
    "data.collect()"
   ]
  },
  {
   "cell_type": "markdown",
   "metadata": {},
   "source": [
    "With the RDD `data`, from the previous cell, execute a `flatMap()` for each line in the input and then convert it to lower case, remove the commas, split the words on a space and store in the RDD `words`"
   ]
  },
  {
   "cell_type": "code",
   "execution_count": 6,
   "metadata": {},
   "outputs": [],
   "source": [
    "#map step\n",
    "\n",
    "word_counts = data.flatMap(lambda line: line.split(' ')).map(lambda line:line.replace(\",\",\"\")).map(lambda line:line.lower())\n"
   ]
  },
  {
   "cell_type": "markdown",
   "metadata": {},
   "source": [
    "Execute the command with the action `take()` and retrieve the first 10 words from the `flatMap()`transformation"
   ]
  },
  {
   "cell_type": "code",
   "execution_count": 7,
   "metadata": {},
   "outputs": [
    {
     "name": "stdout",
     "output_type": "stream",
     "text": [
      "['the', 'project', 'gutenberg', 'ebook', 'of', 'dracula', 'by', 'bram', 'stoker', '']\n"
     ]
    }
   ],
   "source": [
    "\n",
    "print(word_counts.take(10))"
   ]
  },
  {
   "cell_type": "markdown",
   "metadata": {},
   "source": [
    "Perform a classic `map()` to create a tuple where each word has a count of 1"
   ]
  },
  {
   "cell_type": "code",
   "execution_count": 8,
   "metadata": {
    "scrolled": true
   },
   "outputs": [
    {
     "name": "stdout",
     "output_type": "stream",
     "text": [
      "[('the', 1), ('project', 1), ('gutenberg', 1), ('ebook', 1), ('of', 1), ('dracula', 1), ('by', 1), ('bram', 1), ('stoker', 1), ('', 1)]\n"
     ]
    }
   ],
   "source": [
    "word_counts=word_counts.map(lambda word: (word,1))\n",
    "print(word_counts.take(10))"
   ]
  },
  {
   "cell_type": "markdown",
   "metadata": {},
   "source": [
    "Write the reducing function"
   ]
  },
  {
   "cell_type": "code",
   "execution_count": 9,
   "metadata": {},
   "outputs": [
    {
     "name": "stdout",
     "output_type": "stream",
     "text": [
      "[('project', 83), ('gutenberg', 24), ('ebook', 10), ('of', 3719), ('dracula', 29), ('stoker', 5), ('', 9306), ('this', 629), ('is', 1489), ('use', 48)]\n"
     ]
    }
   ],
   "source": [
    "# reducer\n",
    "word_counts=word_counts.reduceByKey(lambda x,y: x+y) \n",
    "\n",
    "print(word_counts.take(10))"
   ]
  },
  {
   "cell_type": "markdown",
   "metadata": {},
   "source": [
    "Get all words that occur more than once and sort them alphabetically:"
   ]
  },
  {
   "cell_type": "code",
   "execution_count": 10,
   "metadata": {},
   "outputs": [
    {
     "name": "stdout",
     "output_type": "stream",
     "text": [
      "[('', 9306), ('\"\\'my', 2), ('\"_17', 4), ('\"_2', 2), ('\"_24', 2), ('\"_25', 4), ('\"_6', 2), ('\"_czarina', 2), ('\"a', 12), ('\"ah', 18), ('\"aha!\"', 2), ('\"all', 8), ('\"am', 2), ('\"and', 53), ('\"are', 5), ('\"arthur!', 2), ('\"as', 6), ('\"at', 3), ('\"be', 2), ('\"because', 8)]\n"
     ]
    }
   ],
   "source": [
    "print(word_counts.filter(lambda key: key[1]>1).sortByKey().take(20))"
   ]
  },
  {
   "cell_type": "markdown",
   "metadata": {},
   "source": [
    "Now, get all words that occur more than once and sort them by frequency. Select the first 20. Hints : look at the `takeOrdered` action."
   ]
  },
  {
   "cell_type": "code",
   "execution_count": 11,
   "metadata": {},
   "outputs": [
    {
     "name": "stdout",
     "output_type": "stream",
     "text": [
      "[('', 9306), ('the', 7984), ('and', 5840), ('i', 4527), ('to', 4518), ('of', 3719), ('a', 2933), ('he', 2523), ('in', 2512), ('that', 2415), ('it', 1876), ('was', 1848), ('as', 1573), ('for', 1514), ('we', 1499), ('is', 1489), ('his', 1457), ('not', 1350), ('with', 1314), ('you', 1302)]\n"
     ]
    }
   ],
   "source": [
    "\n",
    "print(word_counts.filter(lambda key: key[1]>1).takeOrdered(20, lambda y: -1*y[1]))"
   ]
  },
  {
   "cell_type": "markdown",
   "metadata": {},
   "source": [
    "### A simple exercice\n",
    "\n",
    "+ Create a Python collection of 10,000 integers\n",
    "+ Create a Spark base RDD from that collection\n",
    "+ Subtract one from each value using map\n",
    "+ Perform action collect to view results\n",
    "+ Perform action count to view counts\n",
    "+ Apply transformation filter and view results with collect"
   ]
  },
  {
   "cell_type": "code",
   "execution_count": 12,
   "metadata": {},
   "outputs": [],
   "source": [
    "# create dataset\n",
    "import random\n",
    "n= 10000\n",
    "numLow=-n\n",
    "numHigh=2*n\n",
    "setOfNumbers = set()\n",
    "while len(setOfNumbers) < n:\n",
    "    setOfNumbers.add(random.randint(numLow, numHigh))\n",
    "\n",
    "numbers=sc.parallelize(setOfNumbers)"
   ]
  },
  {
   "cell_type": "code",
   "execution_count": 13,
   "metadata": {},
   "outputs": [
    {
     "name": "stdout",
     "output_type": "stream",
     "text": [
      "[0, 6, 8, 10, 12, 17, 18, 22, 24, 26]\n",
      "[-1, 5, 7, 9, 11, 16, 17, 21, 23, 25]\n"
     ]
    },
    {
     "data": {
      "text/plain": [
       "10000"
      ]
     },
     "execution_count": 13,
     "metadata": {},
     "output_type": "execute_result"
    }
   ],
   "source": [
    "#vizulaise data created\n",
    "print(numbers.take(10))\n",
    "numbers=numbers.map(lambda num:num-1)\n",
    "print(numbers.take(10))\n",
    "numbers.count()"
   ]
  },
  {
   "cell_type": "markdown",
   "metadata": {},
   "source": [
    "### An improved WordCount\n",
    "\n",
    "Print the top 10 most frequent words with their probability of appearance\n"
   ]
  },
  {
   "cell_type": "code",
   "execution_count": 14,
   "metadata": {},
   "outputs": [
    {
     "name": "stdout",
     "output_type": "stream",
     "text": [
      "[('', 9306), ('the', 7984), ('and', 5840), ('i', 4527), ('to', 4518), ('of', 3719), ('a', 2933), ('he', 2523), ('in', 2512), ('that', 2415)]\n"
     ]
    }
   ],
   "source": [
    "print(word_counts.filter(lambda key: key[1]>1).takeOrdered(10, lambda y: -1*y[1]))"
   ]
  },
  {
   "cell_type": "markdown",
   "metadata": {},
   "source": [
    "Get rid of special characters (.,:!?')\n"
   ]
  },
  {
   "cell_type": "code",
   "execution_count": 15,
   "metadata": {},
   "outputs": [
    {
     "name": "stdout",
     "output_type": "stream",
     "text": [
      "[('project', 2), ('gutenberg', 4), ('ebook', 2), ('of', 7), ('dracula', 6), ('stoker', 1), ('', 7), ('this', 11), ('is', 15), ('use', 3), ('anyone', 2), ('anywhere', 3), ('at', 7), ('no', 17), ('restrictions', 1), ('whatsoever', 2), ('may', 11), ('give', 4), ('away', 6), ('reuse', 1)]\n"
     ]
    }
   ],
   "source": [
    "clear=word_counts.map(lambda string: ''.join(e for e in string[0] if e.isalnum()))\n",
    "clear=clear.map(lambda word: (word,1)).reduceByKey(lambda x,y: x+y) \n",
    "print(clear.take(20))\n"
   ]
  },
  {
   "cell_type": "markdown",
   "metadata": {},
   "source": [
    "Identify the transformations and the actions in your script\n"
   ]
  },
  {
   "cell_type": "code",
   "execution_count": 16,
   "metadata": {},
   "outputs": [
    {
     "name": "stdout",
     "output_type": "stream",
     "text": [
      "[('', 7), ('1', 7), ('10', 4), ('11', 2), ('12', 3), ('13', 2), ('14', 2), ('16', 2), ('17', 3), ('18', 3), ('19', 2), ('1c', 2), ('1e', 2), ('1e1', 2), ('1e7', 2), ('1e8', 2), ('1f3', 2), ('2', 4), ('20', 4), ('24', 3)]\n"
     ]
    }
   ],
   "source": [
    "print(clear.filter(lambda key: key[1]>1).sortByKey().take(20))"
   ]
  },
  {
   "cell_type": "code",
   "execution_count": 17,
   "metadata": {},
   "outputs": [],
   "source": [
    "sc.stop()"
   ]
  },
  {
   "cell_type": "markdown",
   "metadata": {},
   "source": [
    "## Part 2 : Spark SQL and dataframes\n",
    "\n",
    "In this part, you will explore Spark DataFrames and the SQL Context. In particular, we will work on a database that contains a sample of the world population by working on data that comes from [pplapi](http://pplapi.com/). The file [agents.json](./SparkData/agents.json) is a file that was extracted from this api using the following command :\n",
    "\n",
    "\n",
    "`wget https://s3-eu-west-1.amazonaws.com/course.oc-static.com/courses/4297166/agents.json`"
   ]
  },
  {
   "cell_type": "code",
   "execution_count": 18,
   "metadata": {},
   "outputs": [],
   "source": [
    "import findspark\n",
    "\n",
    "findspark.init('C:/Users/louis/Documents/spark/spark-2.3.0-bin-hadoop2.7')\n",
    "import pyspark\n",
    "\n",
    "sc=pyspark.SparkContext(\"local[*]\",\"First program in Spark\")\n",
    "\n",
    "import pyspark # only run after findspark.init()\n",
    "from pyspark.sql import SparkSession\n",
    "spark = SparkSession.builder.getOrCreate()\n",
    "\n",
    "df = spark.read.json(\"./SparkData/agents.json\")\n",
    "\n"
   ]
  },
  {
   "cell_type": "markdown",
   "metadata": {},
   "source": [
    "Print the 5 first lines of the dataframe `df`"
   ]
  },
  {
   "cell_type": "code",
   "execution_count": 19,
   "metadata": {},
   "outputs": [
    {
     "name": "stdout",
     "output_type": "stream",
     "text": [
      "+------------+----------+------------------+------------------+------+\n",
      "|country_name|        id|          latitude|         longitude|   sex|\n",
      "+------------+----------+------------------+------------------+------+\n",
      "|       China| 227417393| 33.15219798270325|100.85840672174572|  Male|\n",
      "|       Haiti|6821129477|19.325567983697297|-72.43795260265814|Female|\n",
      "|       India|2078667700|23.645271492037235| 80.85636526088884|Female|\n",
      "|       China| 477556555| 33.45864668881662| 93.33604038078953|Female|\n",
      "|       India|1379059984|28.816938290678692|  80.7728698035823|Female|\n",
      "+------------+----------+------------------+------------------+------+\n",
      "only showing top 5 rows\n",
      "\n"
     ]
    }
   ],
   "source": [
    "df.show(5)"
   ]
  },
  {
   "cell_type": "markdown",
   "metadata": {},
   "source": [
    "Write the spark instructions that enable to display the number of French agents."
   ]
  },
  {
   "cell_type": "code",
   "execution_count": 20,
   "metadata": {},
   "outputs": [
    {
     "name": "stdout",
     "output_type": "stream",
     "text": [
      "number of French agents:  94\n"
     ]
    }
   ],
   "source": [
    "french=df.filter(df['country_name']==\"France\").count()\n",
    "print(\"number of French agents: \",french)"
   ]
  },
  {
   "cell_type": "markdown",
   "metadata": {},
   "source": [
    "Write the spark instructions that enable to display the number of Indian female agents."
   ]
  },
  {
   "cell_type": "code",
   "execution_count": 21,
   "metadata": {},
   "outputs": [
    {
     "name": "stdout",
     "output_type": "stream",
     "text": [
      "number of Indian female agents:  828\n"
     ]
    }
   ],
   "source": [
    "indian=df.filter(df['country_name']==\"India\")\n",
    "female=indian.filter(indian['sex']==\"Female\").count()\n",
    "print(\"number of Indian female agents: \",female)"
   ]
  },
  {
   "cell_type": "markdown",
   "metadata": {},
   "source": [
    "Using the notion of temporary view (function `createTempView`), create a temporary view associated to the dataframe `df`. "
   ]
  },
  {
   "cell_type": "code",
   "execution_count": 22,
   "metadata": {},
   "outputs": [],
   "source": [
    "df.createTempView(\"temp_table\")\n"
   ]
  },
  {
   "cell_type": "markdown",
   "metadata": {},
   "source": [
    "Write some SQL query on the resulting table."
   ]
  },
  {
   "cell_type": "code",
   "execution_count": 23,
   "metadata": {},
   "outputs": [
    {
     "name": "stdout",
     "output_type": "stream",
     "text": [
      "+-----------------+----------+\n",
      "|     country_name|        id|\n",
      "+-----------------+----------+\n",
      "| French Polynesia|7170821229|\n",
      "|       Cabo Verde|7167692449|\n",
      "|         Suriname|7166451460|\n",
      "|         Suriname|7166235088|\n",
      "|            Macau|7166034642|\n",
      "|       Montenegro|7164357515|\n",
      "|Equatorial Guinea|7163867872|\n",
      "|           Bhutan|7163256789|\n",
      "|           Bhutan|7163004645|\n",
      "|           Bhutan|7162877973|\n",
      "+-----------------+----------+\n",
      "\n"
     ]
    }
   ],
   "source": [
    "spark.sql(\"SELECT country_name,id FROM temp_table ORDER BY id DESC LIMIT 10\").show()"
   ]
  },
  {
   "cell_type": "code",
   "execution_count": 25,
   "metadata": {},
   "outputs": [
    {
     "name": "stdout",
     "output_type": "stream",
     "text": [
      "+------------+------+\n",
      "|country_name|number|\n",
      "+------------+------+\n",
      "|        Chad|    20|\n",
      "|      Russia|   185|\n",
      "|    Paraguay|     9|\n",
      "|       Yemen|    43|\n",
      "|Korea, North|    47|\n",
      "|     Senegal|    17|\n",
      "|      Sweden|    18|\n",
      "|  Cabo Verde|     1|\n",
      "|      Guyana|     2|\n",
      "| Philippines|   160|\n",
      "|       Burma|    71|\n",
      "|     Eritrea|     8|\n",
      "|    Djibouti|     3|\n",
      "|    Malaysia|    54|\n",
      "|   Singapore|     8|\n",
      "|      Turkey|   103|\n",
      "|      Malawi|    30|\n",
      "|        Iraq|    46|\n",
      "|     Germany|   114|\n",
      "|     Comoros|     2|\n",
      "+------------+------+\n",
      "only showing top 20 rows\n",
      "\n"
     ]
    }
   ],
   "source": [
    "\n",
    "spark.sql(\"SELECT country_name,count(country_name) as number FROM temp_table GROUP BY country_name \").show()"
   ]
  },
  {
   "cell_type": "code",
   "execution_count": 26,
   "metadata": {},
   "outputs": [],
   "source": [
    "spark.stop()\n",
    "sc.stop()"
   ]
  },
  {
   "cell_type": "markdown",
   "metadata": {},
   "source": [
    "You can also create a dataframe from an existing RDD as shown on the example below"
   ]
  },
  {
   "cell_type": "code",
   "execution_count": 27,
   "metadata": {},
   "outputs": [],
   "source": [
    "sc=pyspark.SparkContext(\"local[*]\",\"Dataframe examples in Spark\")\n",
    "sqlContext = pyspark.SQLContext(sc)\n",
    "\n"
   ]
  },
  {
   "cell_type": "code",
   "execution_count": 28,
   "metadata": {},
   "outputs": [],
   "source": [
    "documents_rdd = sc.parallelize([\n",
    "        [1, 'cats are cute', 0],\n",
    "        [2, 'dogs are playfull', 0],\n",
    "        [3, 'lions are big', 1],\n",
    "        [4, 'cars are fast', 1]])\n",
    "users_rdd = sc.parallelize([\n",
    "        [0, 'Alice', 20],\n",
    "        [1, 'Bob', 23],\n",
    "        [2, 'Charles', 32]])"
   ]
  },
  {
   "cell_type": "code",
   "execution_count": 29,
   "metadata": {},
   "outputs": [
    {
     "name": "stdout",
     "output_type": "stream",
     "text": [
      "root\n",
      " |-- doc_id: long (nullable = true)\n",
      " |-- text: string (nullable = true)\n",
      " |-- user_id: long (nullable = true)\n",
      "\n"
     ]
    }
   ],
   "source": [
    "documents_df = documents_rdd.toDF(['doc_id', 'text', 'user_id'])\n",
    "users_df = users_rdd.toDF(['user_id', 'name', 'age'])\n",
    "\n",
    "# printing the inferred schema for documents\n",
    "documents_df.printSchema()\n"
   ]
  },
  {
   "cell_type": "markdown",
   "metadata": {},
   "source": [
    "Some functions can be apply to a column or to different columns. Here, we compute the age avarage in the dataframe `users_df`. "
   ]
  },
  {
   "cell_type": "code",
   "execution_count": 30,
   "metadata": {},
   "outputs": [
    {
     "name": "stdout",
     "output_type": "stream",
     "text": [
      "+--------+\n",
      "|avg(age)|\n",
      "+--------+\n",
      "|    25.0|\n",
      "+--------+\n",
      "\n"
     ]
    }
   ],
   "source": [
    "from pyspark.sql import functions as fn\n",
    "\n",
    "user_age_df = users_df.select(fn.avg('age')).show()"
   ]
  },
  {
   "cell_type": "markdown",
   "metadata": {},
   "source": [
    "\n",
    "Compute the max of age in the dataframe `users_df`. "
   ]
  },
  {
   "cell_type": "code",
   "execution_count": 31,
   "metadata": {},
   "outputs": [],
   "source": [
    "user_max_df = users_df.select(fn.max('age'))"
   ]
  },
  {
   "cell_type": "markdown",
   "metadata": {},
   "source": [
    "Join (as in SQL) the two dataframes `users_df` and `documents_df`"
   ]
  },
  {
   "cell_type": "code",
   "execution_count": 32,
   "metadata": {},
   "outputs": [
    {
     "name": "stdout",
     "output_type": "stream",
     "text": [
      "+-------+-----+---+------+-----------------+\n",
      "|user_id| name|age|doc_id|             text|\n",
      "+-------+-----+---+------+-----------------+\n",
      "|      0|Alice| 20|     1|    cats are cute|\n",
      "|      0|Alice| 20|     2|dogs are playfull|\n",
      "|      1|  Bob| 23|     3|    lions are big|\n",
      "|      1|  Bob| 23|     4|    cars are fast|\n",
      "+-------+-----+---+------+-----------------+\n",
      "\n"
     ]
    }
   ],
   "source": [
    "users_df.join(documents_df,\"user_id\").show()"
   ]
  },
  {
   "cell_type": "markdown",
   "metadata": {},
   "source": [
    "Outer Join (Left) (as in SQL) the two dataframes `users_df` and `documents_df`"
   ]
  },
  {
   "cell_type": "code",
   "execution_count": 33,
   "metadata": {},
   "outputs": [
    {
     "name": "stdout",
     "output_type": "stream",
     "text": [
      "+-------+-------+---+------+-----------------+\n",
      "|user_id|   name|age|doc_id|             text|\n",
      "+-------+-------+---+------+-----------------+\n",
      "|      0|  Alice| 20|     1|    cats are cute|\n",
      "|      0|  Alice| 20|     2|dogs are playfull|\n",
      "|      1|    Bob| 23|     3|    lions are big|\n",
      "|      1|    Bob| 23|     4|    cars are fast|\n",
      "|      2|Charles| 32|  null|             null|\n",
      "+-------+-------+---+------+-----------------+\n",
      "\n"
     ]
    }
   ],
   "source": [
    "users_df.join(documents_df,\"user_id\",\"leftouter\").show()"
   ]
  },
  {
   "cell_type": "markdown",
   "metadata": {},
   "source": [
    "## Part 3 : MLlib - Spark for data analysis and machine learning\n",
    "\n",
    "In this part, we will see how to create a text classifiation application with Spark. We will use some data from the newsgroups [Usenet](https://en.wikipedia.org/wiki/Usenet_newsgroup) and the objective is to predict the topic of the news.\n",
    " \n",
    "The train data is [here](./SparkData/20ng-train-all-terms.txt) and the test data [here](./SparkData/20ng-test-all-terms.txt).\n",
    "The are obtained using the following commands: \n",
    "`wget http://ana.cachopo.org/datasets-for-single-label-text-categorization/20ng-train-all-terms.txt`\n",
    "and\n",
    "`wget http://ana.cachopo.org/datasets-for-single-label-text-categorization/20ng-test-all-terms.txt`\n",
    "\n",
    "Load these data as some RDDs and translate them in DataFrames."
   ]
  },
  {
   "cell_type": "code",
   "execution_count": 35,
   "metadata": {},
   "outputs": [
    {
     "name": "stdout",
     "output_type": "stream",
     "text": [
      "+--------------------+-----+\n",
      "|              labels|count|\n",
      "+--------------------+-----+\n",
      "|      comp.windows.x|  593|\n",
      "|        misc.forsale|  585|\n",
      "|    rec.sport.hockey|  600|\n",
      "|  rec.sport.baseball|  597|\n",
      "|  talk.politics.guns|  545|\n",
      "|comp.os.ms-window...|  572|\n",
      "|  talk.politics.misc|  465|\n",
      "|comp.sys.ibm.pc.h...|  590|\n",
      "|       comp.graphics|  584|\n",
      "|soc.religion.chri...|  598|\n",
      "|comp.sys.mac.hard...|  578|\n",
      "|  talk.religion.misc|  377|\n",
      "|talk.politics.mid...|  564|\n",
      "|     rec.motorcycles|  598|\n",
      "|           rec.autos|  594|\n",
      "|         alt.atheism|  480|\n",
      "|     sci.electronics|  591|\n",
      "|           sci.space|  593|\n",
      "|             sci.med|  594|\n",
      "|           sci.crypt|  595|\n",
      "+--------------------+-----+\n",
      "\n",
      "+--------------------+-----+\n",
      "|              labels|count|\n",
      "+--------------------+-----+\n",
      "|      comp.windows.x|  392|\n",
      "|        misc.forsale|  390|\n",
      "|    rec.sport.hockey|  399|\n",
      "|  rec.sport.baseball|  397|\n",
      "|  talk.politics.guns|  364|\n",
      "|comp.os.ms-window...|  394|\n",
      "|  talk.politics.misc|  310|\n",
      "|comp.sys.ibm.pc.h...|  392|\n",
      "|       comp.graphics|  389|\n",
      "|soc.religion.chri...|  398|\n",
      "|comp.sys.mac.hard...|  385|\n",
      "|  talk.religion.misc|  251|\n",
      "|talk.politics.mid...|  376|\n",
      "|     rec.motorcycles|  398|\n",
      "|           rec.autos|  395|\n",
      "|         alt.atheism|  319|\n",
      "|     sci.electronics|  393|\n",
      "|           sci.space|  394|\n",
      "|             sci.med|  396|\n",
      "|           sci.crypt|  396|\n",
      "+--------------------+-----+\n",
      "\n"
     ]
    }
   ],
   "source": [
    "sc.stop()\n",
    "\n",
    "findspark.init()\n",
    "from pyspark.ml.feature import CountVectorizer\n",
    "\n",
    "sc=pyspark.SparkContext(\"local[*]\",\"machine learning in Spark\")\n",
    "sqlContext = pyspark.SQLContext(sc)\n",
    "\n",
    "from pyspark.sql import Row\n",
    "from pyspark.sql.functions import udf\n",
    "from pyspark.sql.types import *\n",
    "\n",
    "def load_dataframe(path):\n",
    "    data = sc.textFile(path)\n",
    "    data=data.map(lambda line: line.split('\\t'))\n",
    "    data=data.toDF([\"labels\",\"text\"])\n",
    "    return(data)\n",
    "\n",
    "def my_split(data):\n",
    "    text=data\n",
    "    return(text.split(\" \"))\n",
    "\n",
    "#load data\n",
    "\n",
    "train_data = load_dataframe(\"./SparkData/train-all-terms.txt\")\n",
    "test_data = load_dataframe(\"./SparkData/test-all-terms.txt\")\n",
    "\n",
    "# create function to split text into a list of strings\n",
    "splitudf=udf(my_split,ArrayType(StringType()))\n",
    "train_data=train_data.withColumn('text2', splitudf('text'))\n",
    "test_data=test_data.withColumn('text2', splitudf('text'))\n",
    "\n",
    "#size of sets\n",
    "n_train=train_data.count()\n",
    "n_test=test_data.count()\n",
    "\n",
    "#combine sets \n",
    "data=train_data.union(test_data)\n",
    "\n",
    "train_data.groupBy(\"labels\").count().show()\n",
    "test_data.groupBy(\"labels\").count().show()"
   ]
  },
  {
   "cell_type": "markdown",
   "metadata": {},
   "source": [
    "A first step is to represent our data, i.e. the messages in the form of a bag-of-word representation using the spark method `CountVectorizer` documented [here](https://spark.apache.org/docs/2.1.0/ml-features.html#countvectorizer)"
   ]
  },
  {
   "cell_type": "code",
   "execution_count": 36,
   "metadata": {},
   "outputs": [
    {
     "name": "stdout",
     "output_type": "stream",
     "text": [
      "+-----------+--------------------+--------------------+--------------------+\n",
      "|     labels|                text|               text2|            features|\n",
      "+-----------+--------------------+--------------------+--------------------+\n",
      "|alt.atheism|alt atheism faq a...|[alt, atheism, fa...|(73713,[0,1,2,3,4...|\n",
      "|alt.atheism|alt atheism faq i...|[alt, atheism, fa...|(73713,[0,1,2,3,4...|\n",
      "|alt.atheism|re gospel dating ...|[re, gospel, dati...|(73713,[0,1,2,3,4...|\n",
      "|alt.atheism|re university vio...|[re, university, ...|(73713,[0,1,2,3,4...|\n",
      "|alt.atheism|re soc motss et a...|[re, soc, motss, ...|(73713,[0,1,2,3,4...|\n",
      "|alt.atheism|re a visit from t...|[re, a, visit, fr...|(73713,[0,1,2,3,4...|\n",
      "|alt.atheism|re political athe...|[re, political, a...|(73713,[0,1,3,4,6...|\n",
      "|alt.atheism|re an anecdote ab...|[re, an, anecdote...|(73713,[0,1,2,3,4...|\n",
      "|alt.atheism|re political athe...|[re, political, a...|(73713,[0,1,2,3,4...|\n",
      "|alt.atheism|re pompous ass km...|[re, pompous, ass...|(73713,[0,4,5,11,...|\n",
      "|alt.atheism|re pompous ass li...|[re, pompous, ass...|(73713,[0,1,2,3,4...|\n",
      "|alt.atheism|re keith schneide...|[re, keith, schne...|(73713,[0,1,2,3,4...|\n",
      "|alt.atheism|re keith schneide...|[re, keith, schne...|(73713,[0,1,2,3,4...|\n",
      "|alt.atheism|re political athe...|[re, political, a...|(73713,[0,1,2,3,4...|\n",
      "|alt.atheism|re political athe...|[re, political, a...|(73713,[0,1,2,3,4...|\n",
      "|alt.atheism|re political athe...|[re, political, a...|(73713,[0,1,2,3,4...|\n",
      "|alt.atheism|re don t more inn...|[re, don, t, more...|(73713,[0,1,2,3,4...|\n",
      "|alt.atheism|re ancient islami...|[re, ancient, isl...|(73713,[0,1,2,3,4...|\n",
      "|alt.atheism|re political athe...|[re, political, a...|(73713,[0,1,2,3,4...|\n",
      "|alt.atheism|re there must be ...|[re, there, must,...|(73713,[0,1,2,3,4...|\n",
      "+-----------+--------------------+--------------------+--------------------+\n",
      "only showing top 20 rows\n",
      "\n"
     ]
    }
   ],
   "source": [
    "# bag of word representation of test and train data\n",
    "\n",
    "cv = CountVectorizer(inputCol=\"text2\", outputCol=\"features\")\n",
    "model = cv.fit(train_data)\n",
    "model=cv.fit(train_data)\n",
    "\n",
    "result = model.transform(train_data)\n",
    "result.show(truncate=True)\n",
    "\n"
   ]
  },
  {
   "cell_type": "markdown",
   "metadata": {},
   "source": [
    "Displaying of the distinct labels in the datasets"
   ]
  },
  {
   "cell_type": "code",
   "execution_count": 37,
   "metadata": {},
   "outputs": [
    {
     "name": "stdout",
     "output_type": "stream",
     "text": [
      "+------------------------+\n",
      "|labels                  |\n",
      "+------------------------+\n",
      "|alt.atheism             |\n",
      "|comp.graphics           |\n",
      "|comp.os.ms-windows.misc |\n",
      "|comp.sys.ibm.pc.hardware|\n",
      "|comp.sys.mac.hardware   |\n",
      "|comp.windows.x          |\n",
      "|misc.forsale            |\n",
      "|rec.autos               |\n",
      "|rec.motorcycles         |\n",
      "|rec.sport.baseball      |\n",
      "|rec.sport.hockey        |\n",
      "|sci.crypt               |\n",
      "|sci.electronics         |\n",
      "|sci.med                 |\n",
      "|sci.space               |\n",
      "|soc.religion.christian  |\n",
      "|talk.politics.guns      |\n",
      "|talk.politics.mideast   |\n",
      "|talk.politics.misc      |\n",
      "|talk.religion.misc      |\n",
      "+------------------------+\n",
      "\n"
     ]
    }
   ],
   "source": [
    "train_data.select(\"labels\").distinct().sort(\"labels\").show(truncate=False)"
   ]
  },
  {
   "cell_type": "markdown",
   "metadata": {},
   "source": [
    "We will now apply a [NaiveBayes](https://spark.apache.org/docs/latest/ml-classification-regression.html#naive-bayes) classifier to our problem. \n",
    "Take the time to read the doc and apply it to our problem. You will first have to associate a number to each label. You can use the [`String Indexer`](https://spark.apache.org/docs/2.1.0/ml-features.html#stringindexer) function of pyspark for that.\n"
   ]
  },
  {
   "cell_type": "code",
   "execution_count": 38,
   "metadata": {
    "scrolled": true
   },
   "outputs": [
    {
     "name": "stdout",
     "output_type": "stream",
     "text": [
      "+-----------+--------------------+--------------------+--------------------+-----+\n",
      "|     labels|                text|               text2|            features|label|\n",
      "+-----------+--------------------+--------------------+--------------------+-----+\n",
      "|alt.atheism|alt atheism faq a...|[alt, atheism, fa...|(73713,[0,1,2,3,4...| 17.0|\n",
      "|alt.atheism|alt atheism faq i...|[alt, atheism, fa...|(73713,[0,1,2,3,4...| 17.0|\n",
      "|alt.atheism|re gospel dating ...|[re, gospel, dati...|(73713,[0,1,2,3,4...| 17.0|\n",
      "|alt.atheism|re university vio...|[re, university, ...|(73713,[0,1,2,3,4...| 17.0|\n",
      "|alt.atheism|re soc motss et a...|[re, soc, motss, ...|(73713,[0,1,2,3,4...| 17.0|\n",
      "|alt.atheism|re a visit from t...|[re, a, visit, fr...|(73713,[0,1,2,3,4...| 17.0|\n",
      "|alt.atheism|re political athe...|[re, political, a...|(73713,[0,1,3,4,6...| 17.0|\n",
      "|alt.atheism|re an anecdote ab...|[re, an, anecdote...|(73713,[0,1,2,3,4...| 17.0|\n",
      "|alt.atheism|re political athe...|[re, political, a...|(73713,[0,1,2,3,4...| 17.0|\n",
      "|alt.atheism|re pompous ass km...|[re, pompous, ass...|(73713,[0,4,5,11,...| 17.0|\n",
      "|alt.atheism|re pompous ass li...|[re, pompous, ass...|(73713,[0,1,2,3,4...| 17.0|\n",
      "|alt.atheism|re keith schneide...|[re, keith, schne...|(73713,[0,1,2,3,4...| 17.0|\n",
      "|alt.atheism|re keith schneide...|[re, keith, schne...|(73713,[0,1,2,3,4...| 17.0|\n",
      "|alt.atheism|re political athe...|[re, political, a...|(73713,[0,1,2,3,4...| 17.0|\n",
      "|alt.atheism|re political athe...|[re, political, a...|(73713,[0,1,2,3,4...| 17.0|\n",
      "|alt.atheism|re political athe...|[re, political, a...|(73713,[0,1,2,3,4...| 17.0|\n",
      "|alt.atheism|re don t more inn...|[re, don, t, more...|(73713,[0,1,2,3,4...| 17.0|\n",
      "|alt.atheism|re ancient islami...|[re, ancient, isl...|(73713,[0,1,2,3,4...| 17.0|\n",
      "|alt.atheism|re political athe...|[re, political, a...|(73713,[0,1,2,3,4...| 17.0|\n",
      "|alt.atheism|re there must be ...|[re, there, must,...|(73713,[0,1,2,3,4...| 17.0|\n",
      "+-----------+--------------------+--------------------+--------------------+-----+\n",
      "only showing top 20 rows\n",
      "\n",
      "+------------------------+-----+\n",
      "|labels                  |label|\n",
      "+------------------------+-----+\n",
      "|rec.sport.hockey        |0.0  |\n",
      "|soc.religion.christian  |1.0  |\n",
      "|rec.motorcycles         |2.0  |\n",
      "|rec.sport.baseball      |3.0  |\n",
      "|sci.crypt               |4.0  |\n",
      "|sci.med                 |5.0  |\n",
      "|rec.autos               |6.0  |\n",
      "|sci.space               |7.0  |\n",
      "|comp.windows.x          |8.0  |\n",
      "|sci.electronics         |9.0  |\n",
      "|comp.sys.ibm.pc.hardware|10.0 |\n",
      "|misc.forsale            |11.0 |\n",
      "|comp.graphics           |12.0 |\n",
      "|comp.sys.mac.hardware   |13.0 |\n",
      "|comp.os.ms-windows.misc |14.0 |\n",
      "|talk.politics.mideast   |15.0 |\n",
      "|talk.politics.guns      |16.0 |\n",
      "|alt.atheism             |17.0 |\n",
      "|talk.politics.misc      |18.0 |\n",
      "|talk.religion.misc      |19.0 |\n",
      "+------------------------+-----+\n",
      "\n"
     ]
    }
   ],
   "source": [
    "# Transformation of the label into a number\n",
    "from pyspark.ml.feature import StringIndexer\n",
    "\n",
    "indexer = StringIndexer(inputCol=\"labels\", outputCol=\"label\")\n",
    "indexed_train = indexer.fit(result).transform(result)\n",
    "\n",
    "#transformation of the data\n",
    "indexed_train.show()\n",
    "\n",
    "#summary\n",
    "indexed_train.select(\"labels\",\"label\").distinct().sort(\"label\").show(truncate=False)"
   ]
  },
  {
   "cell_type": "code",
   "execution_count": 39,
   "metadata": {},
   "outputs": [],
   "source": [
    "#  Application of the NaivesBayes models\n",
    "from pyspark.ml.classification import NaiveBayes\n",
    "from pyspark.ml.evaluation import MulticlassClassificationEvaluator\n",
    "\n",
    "# Split set into training and test set 70/30%\n",
    "splits = indexed_train.randomSplit([0.7, 0.3])\n",
    "train = splits[0]\n",
    "test = splits[1]\n",
    "\n",
    "\n",
    "# create the trainer and set its parameters\n",
    "nb = NaiveBayes(smoothing=1.0, modelType=\"multinomial\")\n",
    "\n",
    "# train the model\n",
    "model = nb.fit(train)\n",
    "\n"
   ]
  },
  {
   "cell_type": "code",
   "execution_count": 41,
   "metadata": {},
   "outputs": [
    {
     "name": "stdout",
     "output_type": "stream",
     "text": [
      "+-----------+--------------------+--------------------+--------------------+-----+--------------------+--------------------+----------+\n",
      "|     labels|                text|               text2|            features|label|       rawPrediction|         probability|prediction|\n",
      "+-----------+--------------------+--------------------+--------------------+-----+--------------------+--------------------+----------+\n",
      "|alt.atheism|a fundamental con...|[a, fundamental, ...|(73713,[0,1,2,3,4...| 17.0|[-2296.4551153397...|[2.34316728465042...|       1.0|\n",
      "|alt.atheism|a remarkable admi...|[a, remarkable, a...|(73713,[0,1,2,3,4...| 17.0|[-1346.4551682889...|[9.33427206729450...|      17.0|\n",
      "|alt.atheism|a word of advice ...|[a, word, of, adv...|(73713,[0,2,3,4,5...| 17.0|[-745.83915899261...|[4.69420223601775...|      17.0|\n",
      "|alt.atheism|cannanite genocid...|[cannanite, genoc...|(73713,[0,5,6,8,9...| 17.0|[-332.04696401390...|[4.21721566864230...|       1.0|\n",
      "|alt.atheism|islam vs the jeho...|[islam, vs, the, ...|(73713,[0,1,2,3,4...| 17.0|[-1222.5614919626...|[3.40697957535007...|      17.0|\n",
      "|alt.atheism|islamic authority...|[islamic, authori...|(73713,[0,1,2,3,4...| 17.0|[-3475.9437656030...|[8.19098378896136...|      15.0|\n",
      "|alt.atheism|keith is a relati...|[keith, is, a, re...|(73713,[0,1,3,4,5...| 17.0|[-1458.6621819582...|[3.16898853988812...|      17.0|\n",
      "|alt.atheism|re a little too s...|[re, a, little, t...|(73713,[0,1,2,3,4...| 17.0|[-1086.3478144630...|[8.70494908353288...|      17.0|\n",
      "|alt.atheism|re a little too s...|[re, a, little, t...|(73713,[0,1,2,3,4...| 17.0|[-3097.2166572400...|[2.43751147294862...|       1.0|\n",
      "|alt.atheism|re a visit from t...|[re, a, visit, fr...|(73713,[0,1,2,3,4...| 17.0|[-950.10421968609...|[6.08818371698832...|      17.0|\n",
      "|alt.atheism|re a visit from t...|[re, a, visit, fr...|(73713,[0,1,2,3,4...| 17.0|[-720.85648729439...|[2.33203249469391...|      17.0|\n",
      "|alt.atheism|re after years ca...|[re, after, years...|(73713,[0,1,2,3,4...| 17.0|[-1648.8239360405...|[3.72245991999679...|      17.0|\n",
      "|alt.atheism|re after years ca...|[re, after, years...|(73713,[0,1,2,3,4...| 17.0|[-1615.4981486433...|[1.61875119747906...|      17.0|\n",
      "|alt.atheism|re after years ca...|[re, after, years...|(73713,[0,1,2,3,4...| 17.0|[-1243.9193412586...|[3.79898121481423...|      17.0|\n",
      "|alt.atheism|re alt atheism fa...|[re, alt, atheism...|(73713,[0,1,2,3,5...| 17.0|[-701.77006612796...|[2.51602380436334...|      17.0|\n",
      "|alt.atheism|re americans and ...|[re, americans, a...|(73713,[0,1,2,3,4...| 17.0|[-4169.2260557480...|[1.41539707111548...|      17.0|\n",
      "|alt.atheism|re americans and ...|[re, americans, a...|(73713,[0,1,2,3,4...| 17.0|[-4861.1830015245...|[1.69775636011404...|      17.0|\n",
      "|alt.atheism|re americans and ...|[re, americans, a...|(73713,[0,1,2,3,4...| 17.0|[-1817.8784494782...|[3.16836241204942...|      17.0|\n",
      "|alt.atheism|re amusing atheis...|[re, amusing, ath...|(73713,[0,1,2,3,4...| 17.0|[-1094.3798479002...|[3.18804102080115...|      17.0|\n",
      "|alt.atheism|re amusing atheis...|[re, amusing, ath...|(73713,[0,1,2,3,4...| 17.0|[-494.87346596624...|[9.13530278827060...|      17.0|\n",
      "+-----------+--------------------+--------------------+--------------------+-----+--------------------+--------------------+----------+\n",
      "only showing top 20 rows\n",
      "\n",
      "Test set accuracy = 0.856637168141593\n"
     ]
    }
   ],
   "source": [
    "# T Application of the trained model to the test dataset and displaying the prediction compared to the real value for the 20 first messages\n",
    "# select example rows to display.\n",
    "predictions = model.transform(test)\n",
    "predictions.show()\n",
    "\n",
    "# compute accuracy on the test set\n",
    "evaluator = MulticlassClassificationEvaluator(labelCol=\"label\", predictionCol=\"prediction\",\n",
    "                                              metricName=\"accuracy\")\n",
    "accuracy = evaluator.evaluate(predictions)\n",
    "print(\"Test set accuracy = \" + str(accuracy))\n"
   ]
  }
 ],
 "metadata": {
  "kernelspec": {
   "display_name": "Python 3",
   "language": "python",
   "name": "python3"
  },
  "language_info": {
   "codemirror_mode": {
    "name": "ipython",
    "version": 3
   },
   "file_extension": ".py",
   "mimetype": "text/x-python",
   "name": "python",
   "nbconvert_exporter": "python",
   "pygments_lexer": "ipython3",
   "version": "3.6.0"
  },
  "latex_envs": {
   "LaTeX_envs_menu_present": true,
   "autoclose": false,
   "autocomplete": true,
   "bibliofile": "biblio.bib",
   "cite_by": "apalike",
   "current_citInitial": 1,
   "eqLabelWithNumbers": true,
   "eqNumInitial": 1,
   "hotkeys": {
    "equation": "Ctrl-E",
    "itemize": "Ctrl-I"
   },
   "labels_anchors": false,
   "latex_user_defs": false,
   "report_style_numbering": false,
   "user_envs_cfg": false
  }
 },
 "nbformat": 4,
 "nbformat_minor": 2
}
